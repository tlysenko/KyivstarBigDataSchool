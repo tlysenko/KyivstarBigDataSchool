{
  "nbformat": 4,
  "nbformat_minor": 0,
  "metadata": {
    "colab": {
      "name": "Kyivstar BigData School test assignment.ipynb",
      "provenance": [],
      "toc_visible": true,
      "machine_shape": "hm",
      "include_colab_link": true
    },
    "kernelspec": {
      "name": "python3",
      "display_name": "Python 3"
    },
    "accelerator": "GPU"
  },
  "cells": [
    {
      "cell_type": "markdown",
      "metadata": {
        "id": "view-in-github",
        "colab_type": "text"
      },
      "source": [
        "<a href=\"https://colab.research.google.com/github/tlysenko/KyivstarBigDataSchool/blob/master/Kyivstar_BigData_School_test_assignment.ipynb\" target=\"_parent\"><img src=\"https://colab.research.google.com/assets/colab-badge.svg\" alt=\"Open In Colab\"/></a>"
      ]
    },
    {
      "cell_type": "code",
      "metadata": {
        "id": "Z1gl7x-2z0A_",
        "colab_type": "code",
        "colab": {}
      },
      "source": [
        "import pandas as pd\n",
        "import matplotlib.pyplot as plt\n",
        "import seaborn as sns\n",
        "import numpy as np\n"
      ],
      "execution_count": 0,
      "outputs": []
    },
    {
      "cell_type": "markdown",
      "metadata": {
        "id": "ViISoN3gz88r",
        "colab_type": "text"
      },
      "source": [
        "## Downloadin the files"
      ]
    },
    {
      "cell_type": "code",
      "metadata": {
        "id": "ZVg6PTCGz8l3",
        "colab_type": "code",
        "outputId": "f78e1a0b-58e2-40dc-d810-6b778160c306",
        "colab": {
          "base_uri": "https://localhost:8080/",
          "height": 122
        }
      },
      "source": [
        "#Mounting GoogleDrive\n",
        "from google.colab import drive\n",
        "drive.mount('/content/drive')"
      ],
      "execution_count": 2,
      "outputs": [
        {
          "output_type": "stream",
          "text": [
            "Go to this URL in a browser: https://accounts.google.com/o/oauth2/auth?client_id=947318989803-6bn6qk8qdgf4n4g3pfee6491hc0brc4i.apps.googleusercontent.com&redirect_uri=urn%3Aietf%3Awg%3Aoauth%3A2.0%3Aoob&scope=email%20https%3A%2F%2Fwww.googleapis.com%2Fauth%2Fdocs.test%20https%3A%2F%2Fwww.googleapis.com%2Fauth%2Fdrive%20https%3A%2F%2Fwww.googleapis.com%2Fauth%2Fdrive.photos.readonly%20https%3A%2F%2Fwww.googleapis.com%2Fauth%2Fpeopleapi.readonly&response_type=code\n",
            "\n",
            "Enter your authorization code:\n",
            "··········\n",
            "Mounted at /content/drive\n"
          ],
          "name": "stdout"
        }
      ]
    },
    {
      "cell_type": "code",
      "metadata": {
        "id": "8ef_sHHM0HPM",
        "colab_type": "code",
        "colab": {}
      },
      "source": [
        "df_tab = pd.read_csv(\"/content/drive/My Drive/Datasets/Kyivstar/tabular_data.csv\")\n",
        "df_hash = pd.read_csv(\"/content/drive/My Drive/Datasets/Kyivstar/hashed_data.csv\")\n",
        "tgt_train = pd.read_csv(\"/content/drive/My Drive/Datasets/Kyivstar/train_target.csv\")\n",
        "tgt_test = pd.read_csv(\"/content/drive/My Drive/Datasets/Kyivstar/test_target.csv\")"
      ],
      "execution_count": 0,
      "outputs": []
    },
    {
      "cell_type": "markdown",
      "metadata": {
        "id": "KP2a7zhyQh0p",
        "colab_type": "text"
      },
      "source": [
        "## Exploratory Data Analysis"
      ]
    },
    {
      "cell_type": "markdown",
      "metadata": {
        "id": "adGYDLhr5YxT",
        "colab_type": "text"
      },
      "source": [
        "#### **tabular_data.csv**"
      ]
    },
    {
      "cell_type": "code",
      "metadata": {
        "id": "vwAsCQMy0etG",
        "colab_type": "code",
        "outputId": "43f86a4c-f502-40e1-c1f4-ab6a0a85c72e",
        "colab": {
          "base_uri": "https://localhost:8080/",
          "height": 224
        }
      },
      "source": [
        "df_tab.head()"
      ],
      "execution_count": 4,
      "outputs": [
        {
          "output_type": "execute_result",
          "data": {
            "text/html": [
              "<div>\n",
              "<style scoped>\n",
              "    .dataframe tbody tr th:only-of-type {\n",
              "        vertical-align: middle;\n",
              "    }\n",
              "\n",
              "    .dataframe tbody tr th {\n",
              "        vertical-align: top;\n",
              "    }\n",
              "\n",
              "    .dataframe thead th {\n",
              "        text-align: right;\n",
              "    }\n",
              "</style>\n",
              "<table border=\"1\" class=\"dataframe\">\n",
              "  <thead>\n",
              "    <tr style=\"text-align: right;\">\n",
              "      <th></th>\n",
              "      <th>PERIOD</th>\n",
              "      <th>ID</th>\n",
              "      <th>V_1</th>\n",
              "      <th>V_2</th>\n",
              "      <th>V_3</th>\n",
              "      <th>V_4</th>\n",
              "      <th>V_5</th>\n",
              "      <th>V_6</th>\n",
              "      <th>V_7</th>\n",
              "      <th>V_8</th>\n",
              "      <th>V_9</th>\n",
              "      <th>V_10</th>\n",
              "      <th>V_11</th>\n",
              "      <th>V_12</th>\n",
              "      <th>V_13</th>\n",
              "      <th>V_14</th>\n",
              "      <th>V_15</th>\n",
              "      <th>V_16</th>\n",
              "      <th>V_17</th>\n",
              "      <th>V_18</th>\n",
              "      <th>V_19</th>\n",
              "      <th>V_20</th>\n",
              "      <th>V_21</th>\n",
              "      <th>V_22</th>\n",
              "      <th>V_23</th>\n",
              "      <th>V_24</th>\n",
              "      <th>V_25</th>\n",
              "      <th>V_26</th>\n",
              "      <th>V_27</th>\n",
              "      <th>V_28</th>\n",
              "      <th>V_29</th>\n",
              "      <th>V_30</th>\n",
              "      <th>V_31</th>\n",
              "      <th>V_32</th>\n",
              "      <th>V_33</th>\n",
              "      <th>V_34</th>\n",
              "      <th>V_35</th>\n",
              "      <th>V_36</th>\n",
              "      <th>V_37</th>\n",
              "      <th>V_38</th>\n",
              "      <th>V_39</th>\n",
              "      <th>V_40</th>\n",
              "      <th>V_41</th>\n",
              "      <th>V_42</th>\n",
              "      <th>V_43</th>\n",
              "    </tr>\n",
              "  </thead>\n",
              "  <tbody>\n",
              "    <tr>\n",
              "      <th>0</th>\n",
              "      <td>1</td>\n",
              "      <td>1</td>\n",
              "      <td>27.0</td>\n",
              "      <td>0.0</td>\n",
              "      <td>0.0</td>\n",
              "      <td>1.0</td>\n",
              "      <td>1.0</td>\n",
              "      <td>0.0</td>\n",
              "      <td>0.0</td>\n",
              "      <td>0.0</td>\n",
              "      <td>NaN</td>\n",
              "      <td>27.0</td>\n",
              "      <td>2.0</td>\n",
              "      <td>63.48</td>\n",
              "      <td>230.43</td>\n",
              "      <td>226.18</td>\n",
              "      <td>3.92</td>\n",
              "      <td>0.0</td>\n",
              "      <td>0.0</td>\n",
              "      <td>0.33</td>\n",
              "      <td>0.0</td>\n",
              "      <td>0.0</td>\n",
              "      <td>0.0</td>\n",
              "      <td>0.0</td>\n",
              "      <td>92.77</td>\n",
              "      <td>82.12</td>\n",
              "      <td>10.65</td>\n",
              "      <td>0.0</td>\n",
              "      <td>0.0</td>\n",
              "      <td>117.0</td>\n",
              "      <td>112.0</td>\n",
              "      <td>2.0</td>\n",
              "      <td>NaN</td>\n",
              "      <td>35.0</td>\n",
              "      <td>30.0</td>\n",
              "      <td>NaN</td>\n",
              "      <td>0.0</td>\n",
              "      <td>0.0</td>\n",
              "      <td>45.53</td>\n",
              "      <td>1.0550</td>\n",
              "      <td>0.0</td>\n",
              "      <td>0.0</td>\n",
              "      <td>45.53</td>\n",
              "      <td>0.0</td>\n",
              "      <td>0.0</td>\n",
              "    </tr>\n",
              "    <tr>\n",
              "      <th>1</th>\n",
              "      <td>2</td>\n",
              "      <td>1</td>\n",
              "      <td>19.0</td>\n",
              "      <td>0.0</td>\n",
              "      <td>NaN</td>\n",
              "      <td>1.0</td>\n",
              "      <td>1.0</td>\n",
              "      <td>0.0</td>\n",
              "      <td>1.0</td>\n",
              "      <td>0.0</td>\n",
              "      <td>NaN</td>\n",
              "      <td>19.0</td>\n",
              "      <td>2.0</td>\n",
              "      <td>NaN</td>\n",
              "      <td>134.75</td>\n",
              "      <td>132.03</td>\n",
              "      <td>2.03</td>\n",
              "      <td>0.0</td>\n",
              "      <td>0.0</td>\n",
              "      <td>0.69</td>\n",
              "      <td>1.0</td>\n",
              "      <td>0.0</td>\n",
              "      <td>0.0</td>\n",
              "      <td>0.0</td>\n",
              "      <td>162.48</td>\n",
              "      <td>162.48</td>\n",
              "      <td>0.00</td>\n",
              "      <td>0.0</td>\n",
              "      <td>NaN</td>\n",
              "      <td>54.0</td>\n",
              "      <td>48.0</td>\n",
              "      <td>2.0</td>\n",
              "      <td>0.0</td>\n",
              "      <td>44.0</td>\n",
              "      <td>44.0</td>\n",
              "      <td>0.0</td>\n",
              "      <td>0.0</td>\n",
              "      <td>0.0</td>\n",
              "      <td>48.00</td>\n",
              "      <td>NaN</td>\n",
              "      <td>NaN</td>\n",
              "      <td>0.0</td>\n",
              "      <td>48.00</td>\n",
              "      <td>0.0</td>\n",
              "      <td>0.0</td>\n",
              "    </tr>\n",
              "    <tr>\n",
              "      <th>2</th>\n",
              "      <td>3</td>\n",
              "      <td>1</td>\n",
              "      <td>22.0</td>\n",
              "      <td>0.0</td>\n",
              "      <td>0.0</td>\n",
              "      <td>NaN</td>\n",
              "      <td>1.0</td>\n",
              "      <td>0.0</td>\n",
              "      <td>0.0</td>\n",
              "      <td>0.0</td>\n",
              "      <td>0.0</td>\n",
              "      <td>22.0</td>\n",
              "      <td>1.0</td>\n",
              "      <td>21.98</td>\n",
              "      <td>159.08</td>\n",
              "      <td>158.08</td>\n",
              "      <td>1.00</td>\n",
              "      <td>0.0</td>\n",
              "      <td>0.0</td>\n",
              "      <td>0.00</td>\n",
              "      <td>0.0</td>\n",
              "      <td>NaN</td>\n",
              "      <td>0.0</td>\n",
              "      <td>0.0</td>\n",
              "      <td>180.90</td>\n",
              "      <td>180.90</td>\n",
              "      <td>0.00</td>\n",
              "      <td>0.0</td>\n",
              "      <td>0.0</td>\n",
              "      <td>39.0</td>\n",
              "      <td>38.0</td>\n",
              "      <td>1.0</td>\n",
              "      <td>0.0</td>\n",
              "      <td>33.0</td>\n",
              "      <td>33.0</td>\n",
              "      <td>0.0</td>\n",
              "      <td>0.0</td>\n",
              "      <td>NaN</td>\n",
              "      <td>46.59</td>\n",
              "      <td>0.0000</td>\n",
              "      <td>0.0</td>\n",
              "      <td>0.0</td>\n",
              "      <td>46.59</td>\n",
              "      <td>0.0</td>\n",
              "      <td>0.0</td>\n",
              "    </tr>\n",
              "    <tr>\n",
              "      <th>3</th>\n",
              "      <td>1</td>\n",
              "      <td>2</td>\n",
              "      <td>NaN</td>\n",
              "      <td>NaN</td>\n",
              "      <td>0.0</td>\n",
              "      <td>1.0</td>\n",
              "      <td>1.0</td>\n",
              "      <td>NaN</td>\n",
              "      <td>0.0</td>\n",
              "      <td>NaN</td>\n",
              "      <td>0.0</td>\n",
              "      <td>NaN</td>\n",
              "      <td>4.0</td>\n",
              "      <td>2.20</td>\n",
              "      <td>175.97</td>\n",
              "      <td>164.92</td>\n",
              "      <td>11.00</td>\n",
              "      <td>0.0</td>\n",
              "      <td>0.0</td>\n",
              "      <td>0.05</td>\n",
              "      <td>NaN</td>\n",
              "      <td>0.0</td>\n",
              "      <td>0.0</td>\n",
              "      <td>0.0</td>\n",
              "      <td>281.68</td>\n",
              "      <td>259.63</td>\n",
              "      <td>22.05</td>\n",
              "      <td>NaN</td>\n",
              "      <td>0.0</td>\n",
              "      <td>109.0</td>\n",
              "      <td>103.0</td>\n",
              "      <td>4.0</td>\n",
              "      <td>0.0</td>\n",
              "      <td>152.0</td>\n",
              "      <td>143.0</td>\n",
              "      <td>9.0</td>\n",
              "      <td>0.0</td>\n",
              "      <td>0.0</td>\n",
              "      <td>157.50</td>\n",
              "      <td>3.3075</td>\n",
              "      <td>0.0</td>\n",
              "      <td>0.0</td>\n",
              "      <td>157.50</td>\n",
              "      <td>0.0</td>\n",
              "      <td>0.0</td>\n",
              "    </tr>\n",
              "    <tr>\n",
              "      <th>4</th>\n",
              "      <td>2</td>\n",
              "      <td>2</td>\n",
              "      <td>28.0</td>\n",
              "      <td>0.0</td>\n",
              "      <td>0.0</td>\n",
              "      <td>1.0</td>\n",
              "      <td>1.0</td>\n",
              "      <td>0.0</td>\n",
              "      <td>0.0</td>\n",
              "      <td>0.0</td>\n",
              "      <td>0.0</td>\n",
              "      <td>28.0</td>\n",
              "      <td>8.0</td>\n",
              "      <td>73.93</td>\n",
              "      <td>367.20</td>\n",
              "      <td>339.73</td>\n",
              "      <td>27.47</td>\n",
              "      <td>0.0</td>\n",
              "      <td>0.0</td>\n",
              "      <td>NaN</td>\n",
              "      <td>0.0</td>\n",
              "      <td>0.0</td>\n",
              "      <td>0.0</td>\n",
              "      <td>0.0</td>\n",
              "      <td>504.13</td>\n",
              "      <td>479.53</td>\n",
              "      <td>24.60</td>\n",
              "      <td>0.0</td>\n",
              "      <td>0.0</td>\n",
              "      <td>233.0</td>\n",
              "      <td>222.0</td>\n",
              "      <td>11.0</td>\n",
              "      <td>0.0</td>\n",
              "      <td>288.0</td>\n",
              "      <td>279.0</td>\n",
              "      <td>NaN</td>\n",
              "      <td>0.0</td>\n",
              "      <td>0.0</td>\n",
              "      <td>157.50</td>\n",
              "      <td>3.6400</td>\n",
              "      <td>0.0</td>\n",
              "      <td>0.0</td>\n",
              "      <td>157.50</td>\n",
              "      <td>0.0</td>\n",
              "      <td>0.0</td>\n",
              "    </tr>\n",
              "  </tbody>\n",
              "</table>\n",
              "</div>"
            ],
            "text/plain": [
              "   PERIOD  ID   V_1  V_2  V_3  V_4  ...    V_38  V_39  V_40    V_41  V_42  V_43\n",
              "0       1   1  27.0  0.0  0.0  1.0  ...  1.0550   0.0   0.0   45.53   0.0   0.0\n",
              "1       2   1  19.0  0.0  NaN  1.0  ...     NaN   NaN   0.0   48.00   0.0   0.0\n",
              "2       3   1  22.0  0.0  0.0  NaN  ...  0.0000   0.0   0.0   46.59   0.0   0.0\n",
              "3       1   2   NaN  NaN  0.0  1.0  ...  3.3075   0.0   0.0  157.50   0.0   0.0\n",
              "4       2   2  28.0  0.0  0.0  1.0  ...  3.6400   0.0   0.0  157.50   0.0   0.0\n",
              "\n",
              "[5 rows x 45 columns]"
            ]
          },
          "metadata": {
            "tags": []
          },
          "execution_count": 4
        }
      ]
    },
    {
      "cell_type": "code",
      "metadata": {
        "id": "viPnKyAULX91",
        "colab_type": "code",
        "outputId": "62fdb483-af8a-40c3-ac5c-759aae6ada0f",
        "colab": {
          "base_uri": "https://localhost:8080/",
          "height": 85
        }
      },
      "source": [
        "# There are three equal periods\n",
        "df_tab['PERIOD'].value_counts()"
      ],
      "execution_count": 5,
      "outputs": [
        {
          "output_type": "execute_result",
          "data": {
            "text/plain": [
              "3    4871\n",
              "2    4871\n",
              "1    4839\n",
              "Name: PERIOD, dtype: int64"
            ]
          },
          "metadata": {
            "tags": []
          },
          "execution_count": 5
        }
      ]
    },
    {
      "cell_type": "markdown",
      "metadata": {
        "id": "wDbxY8f8LVtQ",
        "colab_type": "text"
      },
      "source": [
        "#### **Train and test IDs**"
      ]
    },
    {
      "cell_type": "code",
      "metadata": {
        "id": "Lkq8BzCwJg5n",
        "colab_type": "code",
        "outputId": "0c400693-8f1f-46a0-d002-0856fbde2de9",
        "colab": {
          "base_uri": "https://localhost:8080/",
          "height": 282
        }
      },
      "source": [
        "plt.boxplot([df_hash['ID'], df_tab['ID'], tgt_train['ID'], tgt_test['ID']], \n",
        "            labels=['df_hash', 'df_tab','tgt_train','tgt_test']);\n",
        "plt.title('IDs distribution over the data files');"
      ],
      "execution_count": 6,
      "outputs": [
        {
          "output_type": "display_data",
          "data": {
            "image/png": "[encoded data removed]",
            "text/plain": [
              "<Figure size 432x288 with 1 Axes>"
            ]
          },
          "metadata": {
            "tags": []
          }
        }
      ]
    },
    {
      "cell_type": "code",
      "metadata": {
        "id": "Idpwa5KcK9Nr",
        "colab_type": "code",
        "outputId": "f24450b1-7c37-45a1-aec7-56381cfd93f6",
        "colab": {
          "base_uri": "https://localhost:8080/",
          "height": 34
        }
      },
      "source": [
        "tgt_train['ID'].min(), tgt_train['ID'].max() , tgt_test['ID'].min(), tgt_test['ID'].max()"
      ],
      "execution_count": 7,
      "outputs": [
        {
          "output_type": "execute_result",
          "data": {
            "text/plain": [
              "(1, 3871, 3872, 4871)"
            ]
          },
          "metadata": {
            "tags": []
          },
          "execution_count": 7
        }
      ]
    },
    {
      "cell_type": "markdown",
      "metadata": {
        "id": "zf4ZHl4uLJ-H",
        "colab_type": "text"
      },
      "source": [
        "*Train IDs: 1:3871, Test IDs: 3872:4871 inclusive*"
      ]
    },
    {
      "cell_type": "markdown",
      "metadata": {
        "id": "xhe4aUwd6Mca",
        "colab_type": "text"
      },
      "source": [
        "#### **df_hash**"
      ]
    },
    {
      "cell_type": "code",
      "metadata": {
        "id": "JiA4sNzqQfi5",
        "colab_type": "code",
        "outputId": "e6103788-0835-4831-ad52-c98b32513805",
        "colab": {
          "base_uri": "https://localhost:8080/",
          "height": 204
        }
      },
      "source": [
        "df_hash.head()"
      ],
      "execution_count": 8,
      "outputs": [
        {
          "output_type": "execute_result",
          "data": {
            "text/html": [
              "<div>\n",
              "<style scoped>\n",
              "    .dataframe tbody tr th:only-of-type {\n",
              "        vertical-align: middle;\n",
              "    }\n",
              "\n",
              "    .dataframe tbody tr th {\n",
              "        vertical-align: top;\n",
              "    }\n",
              "\n",
              "    .dataframe thead th {\n",
              "        text-align: right;\n",
              "    }\n",
              "</style>\n",
              "<table border=\"1\" class=\"dataframe\">\n",
              "  <thead>\n",
              "    <tr style=\"text-align: right;\">\n",
              "      <th></th>\n",
              "      <th>ID</th>\n",
              "      <th>HASH</th>\n",
              "    </tr>\n",
              "  </thead>\n",
              "  <tbody>\n",
              "    <tr>\n",
              "      <th>0</th>\n",
              "      <td>1</td>\n",
              "      <td>045344e350db36e5aa27d44707026c693b6fbc51334849...</td>\n",
              "    </tr>\n",
              "    <tr>\n",
              "      <th>1</th>\n",
              "      <td>1</td>\n",
              "      <td>0da6f000eee23b4abe52552caaa9ae50a43bb7035ea546...</td>\n",
              "    </tr>\n",
              "    <tr>\n",
              "      <th>2</th>\n",
              "      <td>2</td>\n",
              "      <td>bb375651ea14bd2a97b0bd2a11e272632c2a4e432d3e6b...</td>\n",
              "    </tr>\n",
              "    <tr>\n",
              "      <th>3</th>\n",
              "      <td>2</td>\n",
              "      <td>deb9f62d9f47a9f8eebf4173a114eb849c2efca1d82f13...</td>\n",
              "    </tr>\n",
              "    <tr>\n",
              "      <th>4</th>\n",
              "      <td>2</td>\n",
              "      <td>34757104bdbaa55abc049fb2efad6ea1d449fbba455793...</td>\n",
              "    </tr>\n",
              "  </tbody>\n",
              "</table>\n",
              "</div>"
            ],
            "text/plain": [
              "   ID                                               HASH\n",
              "0   1  045344e350db36e5aa27d44707026c693b6fbc51334849...\n",
              "1   1  0da6f000eee23b4abe52552caaa9ae50a43bb7035ea546...\n",
              "2   2  bb375651ea14bd2a97b0bd2a11e272632c2a4e432d3e6b...\n",
              "3   2  deb9f62d9f47a9f8eebf4173a114eb849c2efca1d82f13...\n",
              "4   2  34757104bdbaa55abc049fb2efad6ea1d449fbba455793..."
            ]
          },
          "metadata": {
            "tags": []
          },
          "execution_count": 8
        }
      ]
    },
    {
      "cell_type": "code",
      "metadata": {
        "id": "UuLTQZeVOzje",
        "colab_type": "code",
        "outputId": "36e03a95-652b-49d1-9349-1d82fa65000a",
        "colab": {
          "base_uri": "https://localhost:8080/",
          "height": 34
        }
      },
      "source": [
        "llen = []\n",
        "idx = []\n",
        "for i in range(0,len(df_hash['ID'])):\n",
        "  llen.append(len(df_hash[df_hash['ID']==i]))\n",
        "  idx.append(i)\n",
        "print(min(llen), max(llen))"
      ],
      "execution_count": 9,
      "outputs": [
        {
          "output_type": "stream",
          "text": [
            "0 73\n"
          ],
          "name": "stdout"
        }
      ]
    },
    {
      "cell_type": "code",
      "metadata": {
        "id": "1DJcrgJFPrAI",
        "colab_type": "code",
        "outputId": "4a901e4a-ed00-46dd-c130-65a46aace279",
        "colab": {
          "base_uri": "https://localhost:8080/",
          "height": 279
        }
      },
      "source": [
        "plt.scatter(x = idx , y = llen);\n",
        "plt.xlabel('IDs');\n",
        "plt.ylabel('Amount hashes');"
      ],
      "execution_count": 10,
      "outputs": [
        {
          "output_type": "display_data",
          "data": {
            "image/png": "[encoded data removed]",
            "text/plain": [
              "<Figure size 432x288 with 1 Axes>"
            ]
          },
          "metadata": {
            "tags": []
          }
        }
      ]
    },
    {
      "cell_type": "markdown",
      "metadata": {
        "id": "JhwLN_LoQT3w",
        "colab_type": "text"
      },
      "source": [
        "*There are a lot of unsued ids in the hashed_data.csv that need to be cleaned up.*\n",
        "\n",
        "*Each ID has up to 73 hash values disclosing many to many relationship*"
      ]
    },
    {
      "cell_type": "code",
      "metadata": {
        "id": "OMGMF95eRKyk",
        "colab_type": "code",
        "outputId": "1fc534c3-34cb-44f5-bc1f-e5e53452f11b",
        "colab": {
          "base_uri": "https://localhost:8080/",
          "height": 281
        }
      },
      "source": [
        "plt.boxplot(llen[:4871]);\n",
        "plt.title('Amount of hashes per id in the range from 0 to 4871');"
      ],
      "execution_count": 11,
      "outputs": [
        {
          "output_type": "display_data",
          "data": {
            "image/png": "[encoded data removed]",
            "text/plain": [
              "<Figure size 432x288 with 1 Axes>"
            ]
          },
          "metadata": {
            "tags": []
          }
        }
      ]
    },
    {
      "cell_type": "code",
      "metadata": {
        "id": "kFAO7yxZRolm",
        "colab_type": "code",
        "outputId": "6c10cd58-ec0e-42ef-c928-567cc232b1bb",
        "colab": {
          "base_uri": "https://localhost:8080/",
          "height": 265
        }
      },
      "source": [
        "plt.hist(llen[:4871],bins=70);"
      ],
      "execution_count": 12,
      "outputs": [
        {
          "output_type": "display_data",
          "data": {
            "image/png": "[encoded data removed]",
            "text/plain": [
              "<Figure size 432x288 with 1 Axes>"
            ]
          },
          "metadata": {
            "tags": []
          }
        }
      ]
    },
    {
      "cell_type": "code",
      "metadata": {
        "id": "ursju-BeSKSn",
        "colab_type": "code",
        "colab": {}
      },
      "source": [
        "# Removing ids that are not present in our training and test datat\n",
        "df_hash2 = df_hash[df_hash['ID']<=4871]"
      ],
      "execution_count": 0,
      "outputs": []
    },
    {
      "cell_type": "code",
      "metadata": {
        "id": "leNINDZbNiQY",
        "colab_type": "code",
        "colab": {}
      },
      "source": [
        "# Label encoder for hashes\n",
        "from sklearn.preprocessing import LabelEncoder\n",
        "le = LabelEncoder()\n",
        "df_hash2['hs'] = le.fit_transform(df_hash2['HASH'])"
      ],
      "execution_count": 0,
      "outputs": []
    },
    {
      "cell_type": "code",
      "metadata": {
        "id": "5KixnzbKNxfa",
        "colab_type": "code",
        "colab": {
          "base_uri": "https://localhost:8080/",
          "height": 204
        },
        "outputId": "842d0815-dfe7-4ff2-9764-a34df8ac8bc4"
      },
      "source": [
        "df_hash2.head()"
      ],
      "execution_count": 15,
      "outputs": [
        {
          "output_type": "execute_result",
          "data": {
            "text/html": [
              "<div>\n",
              "<style scoped>\n",
              "    .dataframe tbody tr th:only-of-type {\n",
              "        vertical-align: middle;\n",
              "    }\n",
              "\n",
              "    .dataframe tbody tr th {\n",
              "        vertical-align: top;\n",
              "    }\n",
              "\n",
              "    .dataframe thead th {\n",
              "        text-align: right;\n",
              "    }\n",
              "</style>\n",
              "<table border=\"1\" class=\"dataframe\">\n",
              "  <thead>\n",
              "    <tr style=\"text-align: right;\">\n",
              "      <th></th>\n",
              "      <th>ID</th>\n",
              "      <th>HASH</th>\n",
              "      <th>hs</th>\n",
              "    </tr>\n",
              "  </thead>\n",
              "  <tbody>\n",
              "    <tr>\n",
              "      <th>0</th>\n",
              "      <td>1</td>\n",
              "      <td>045344e350db36e5aa27d44707026c693b6fbc51334849...</td>\n",
              "      <td>61</td>\n",
              "    </tr>\n",
              "    <tr>\n",
              "      <th>1</th>\n",
              "      <td>1</td>\n",
              "      <td>0da6f000eee23b4abe52552caaa9ae50a43bb7035ea546...</td>\n",
              "      <td>210</td>\n",
              "    </tr>\n",
              "    <tr>\n",
              "      <th>2</th>\n",
              "      <td>2</td>\n",
              "      <td>bb375651ea14bd2a97b0bd2a11e272632c2a4e432d3e6b...</td>\n",
              "      <td>2975</td>\n",
              "    </tr>\n",
              "    <tr>\n",
              "      <th>3</th>\n",
              "      <td>2</td>\n",
              "      <td>deb9f62d9f47a9f8eebf4173a114eb849c2efca1d82f13...</td>\n",
              "      <td>3573</td>\n",
              "    </tr>\n",
              "    <tr>\n",
              "      <th>4</th>\n",
              "      <td>2</td>\n",
              "      <td>34757104bdbaa55abc049fb2efad6ea1d449fbba455793...</td>\n",
              "      <td>838</td>\n",
              "    </tr>\n",
              "  </tbody>\n",
              "</table>\n",
              "</div>"
            ],
            "text/plain": [
              "   ID                                               HASH    hs\n",
              "0   1  045344e350db36e5aa27d44707026c693b6fbc51334849...    61\n",
              "1   1  0da6f000eee23b4abe52552caaa9ae50a43bb7035ea546...   210\n",
              "2   2  bb375651ea14bd2a97b0bd2a11e272632c2a4e432d3e6b...  2975\n",
              "3   2  deb9f62d9f47a9f8eebf4173a114eb849c2efca1d82f13...  3573\n",
              "4   2  34757104bdbaa55abc049fb2efad6ea1d449fbba455793...   838"
            ]
          },
          "metadata": {
            "tags": []
          },
          "execution_count": 15
        }
      ]
    },
    {
      "cell_type": "code",
      "metadata": {
        "id": "ekEV2nknNBgF",
        "colab_type": "code",
        "colab": {}
      },
      "source": [
        "# Dataframe for storing the matrix\n",
        "new_ohe = pd.get_dummies(df_hash2, columns = ['hs']).groupby(['ID'],as_index=False).sum()"
      ],
      "execution_count": 0,
      "outputs": []
    },
    {
      "cell_type": "code",
      "metadata": {
        "id": "6mrWoDQWNRFa",
        "colab_type": "code",
        "colab": {
          "base_uri": "https://localhost:8080/",
          "height": 253
        },
        "outputId": "8675a61c-a6dc-44c0-e455-17f666d77c9d"
      },
      "source": [
        "new_ohe.head()"
      ],
      "execution_count": 18,
      "outputs": [
        {
          "output_type": "execute_result",
          "data": {
            "text/html": [
              "<div>\n",
              "<style scoped>\n",
              "    .dataframe tbody tr th:only-of-type {\n",
              "        vertical-align: middle;\n",
              "    }\n",
              "\n",
              "    .dataframe tbody tr th {\n",
              "        vertical-align: top;\n",
              "    }\n",
              "\n",
              "    .dataframe thead th {\n",
              "        text-align: right;\n",
              "    }\n",
              "</style>\n",
              "<table border=\"1\" class=\"dataframe\">\n",
              "  <thead>\n",
              "    <tr style=\"text-align: right;\">\n",
              "      <th></th>\n",
              "      <th>ID</th>\n",
              "      <th>hs_0</th>\n",
              "      <th>hs_1</th>\n",
              "      <th>hs_2</th>\n",
              "      <th>hs_3</th>\n",
              "      <th>hs_4</th>\n",
              "      <th>hs_5</th>\n",
              "      <th>hs_6</th>\n",
              "      <th>hs_7</th>\n",
              "      <th>hs_8</th>\n",
              "      <th>hs_9</th>\n",
              "      <th>hs_10</th>\n",
              "      <th>hs_11</th>\n",
              "      <th>hs_12</th>\n",
              "      <th>hs_13</th>\n",
              "      <th>hs_14</th>\n",
              "      <th>hs_15</th>\n",
              "      <th>hs_16</th>\n",
              "      <th>hs_17</th>\n",
              "      <th>hs_18</th>\n",
              "      <th>hs_19</th>\n",
              "      <th>hs_20</th>\n",
              "      <th>hs_21</th>\n",
              "      <th>hs_22</th>\n",
              "      <th>hs_23</th>\n",
              "      <th>hs_24</th>\n",
              "      <th>hs_25</th>\n",
              "      <th>hs_26</th>\n",
              "      <th>hs_27</th>\n",
              "      <th>hs_28</th>\n",
              "      <th>hs_29</th>\n",
              "      <th>hs_30</th>\n",
              "      <th>hs_31</th>\n",
              "      <th>hs_32</th>\n",
              "      <th>hs_33</th>\n",
              "      <th>hs_34</th>\n",
              "      <th>hs_35</th>\n",
              "      <th>hs_36</th>\n",
              "      <th>hs_37</th>\n",
              "      <th>hs_38</th>\n",
              "      <th>...</th>\n",
              "      <th>hs_4072</th>\n",
              "      <th>hs_4073</th>\n",
              "      <th>hs_4074</th>\n",
              "      <th>hs_4075</th>\n",
              "      <th>hs_4076</th>\n",
              "      <th>hs_4077</th>\n",
              "      <th>hs_4078</th>\n",
              "      <th>hs_4079</th>\n",
              "      <th>hs_4080</th>\n",
              "      <th>hs_4081</th>\n",
              "      <th>hs_4082</th>\n",
              "      <th>hs_4083</th>\n",
              "      <th>hs_4084</th>\n",
              "      <th>hs_4085</th>\n",
              "      <th>hs_4086</th>\n",
              "      <th>hs_4087</th>\n",
              "      <th>hs_4088</th>\n",
              "      <th>hs_4089</th>\n",
              "      <th>hs_4090</th>\n",
              "      <th>hs_4091</th>\n",
              "      <th>hs_4092</th>\n",
              "      <th>hs_4093</th>\n",
              "      <th>hs_4094</th>\n",
              "      <th>hs_4095</th>\n",
              "      <th>hs_4096</th>\n",
              "      <th>hs_4097</th>\n",
              "      <th>hs_4098</th>\n",
              "      <th>hs_4099</th>\n",
              "      <th>hs_4100</th>\n",
              "      <th>hs_4101</th>\n",
              "      <th>hs_4102</th>\n",
              "      <th>hs_4103</th>\n",
              "      <th>hs_4104</th>\n",
              "      <th>hs_4105</th>\n",
              "      <th>hs_4106</th>\n",
              "      <th>hs_4107</th>\n",
              "      <th>hs_4108</th>\n",
              "      <th>hs_4109</th>\n",
              "      <th>hs_4110</th>\n",
              "      <th>hs_4111</th>\n",
              "    </tr>\n",
              "  </thead>\n",
              "  <tbody>\n",
              "    <tr>\n",
              "      <th>0</th>\n",
              "      <td>1</td>\n",
              "      <td>0</td>\n",
              "      <td>0</td>\n",
              "      <td>0</td>\n",
              "      <td>0</td>\n",
              "      <td>0</td>\n",
              "      <td>0</td>\n",
              "      <td>0</td>\n",
              "      <td>0</td>\n",
              "      <td>0</td>\n",
              "      <td>0</td>\n",
              "      <td>0</td>\n",
              "      <td>0</td>\n",
              "      <td>0</td>\n",
              "      <td>0</td>\n",
              "      <td>0</td>\n",
              "      <td>0</td>\n",
              "      <td>0</td>\n",
              "      <td>0</td>\n",
              "      <td>0</td>\n",
              "      <td>0</td>\n",
              "      <td>0</td>\n",
              "      <td>0</td>\n",
              "      <td>0</td>\n",
              "      <td>0</td>\n",
              "      <td>0</td>\n",
              "      <td>0</td>\n",
              "      <td>0</td>\n",
              "      <td>0</td>\n",
              "      <td>0</td>\n",
              "      <td>0</td>\n",
              "      <td>0</td>\n",
              "      <td>0</td>\n",
              "      <td>0</td>\n",
              "      <td>0</td>\n",
              "      <td>0</td>\n",
              "      <td>0</td>\n",
              "      <td>0</td>\n",
              "      <td>0</td>\n",
              "      <td>0</td>\n",
              "      <td>...</td>\n",
              "      <td>0</td>\n",
              "      <td>0</td>\n",
              "      <td>0</td>\n",
              "      <td>0</td>\n",
              "      <td>0</td>\n",
              "      <td>0</td>\n",
              "      <td>0</td>\n",
              "      <td>0</td>\n",
              "      <td>0</td>\n",
              "      <td>0</td>\n",
              "      <td>0</td>\n",
              "      <td>0</td>\n",
              "      <td>0</td>\n",
              "      <td>0</td>\n",
              "      <td>0</td>\n",
              "      <td>0</td>\n",
              "      <td>0</td>\n",
              "      <td>0</td>\n",
              "      <td>0</td>\n",
              "      <td>0</td>\n",
              "      <td>0</td>\n",
              "      <td>0</td>\n",
              "      <td>0</td>\n",
              "      <td>0</td>\n",
              "      <td>0</td>\n",
              "      <td>0</td>\n",
              "      <td>0</td>\n",
              "      <td>0</td>\n",
              "      <td>0</td>\n",
              "      <td>0</td>\n",
              "      <td>0</td>\n",
              "      <td>0</td>\n",
              "      <td>0</td>\n",
              "      <td>0</td>\n",
              "      <td>0</td>\n",
              "      <td>0</td>\n",
              "      <td>0</td>\n",
              "      <td>0</td>\n",
              "      <td>0</td>\n",
              "      <td>0</td>\n",
              "    </tr>\n",
              "    <tr>\n",
              "      <th>1</th>\n",
              "      <td>2</td>\n",
              "      <td>0</td>\n",
              "      <td>0</td>\n",
              "      <td>0</td>\n",
              "      <td>0</td>\n",
              "      <td>0</td>\n",
              "      <td>0</td>\n",
              "      <td>0</td>\n",
              "      <td>0</td>\n",
              "      <td>0</td>\n",
              "      <td>0</td>\n",
              "      <td>0</td>\n",
              "      <td>0</td>\n",
              "      <td>0</td>\n",
              "      <td>0</td>\n",
              "      <td>0</td>\n",
              "      <td>0</td>\n",
              "      <td>0</td>\n",
              "      <td>1</td>\n",
              "      <td>0</td>\n",
              "      <td>0</td>\n",
              "      <td>0</td>\n",
              "      <td>0</td>\n",
              "      <td>0</td>\n",
              "      <td>0</td>\n",
              "      <td>0</td>\n",
              "      <td>0</td>\n",
              "      <td>0</td>\n",
              "      <td>0</td>\n",
              "      <td>0</td>\n",
              "      <td>0</td>\n",
              "      <td>0</td>\n",
              "      <td>0</td>\n",
              "      <td>0</td>\n",
              "      <td>0</td>\n",
              "      <td>0</td>\n",
              "      <td>0</td>\n",
              "      <td>0</td>\n",
              "      <td>0</td>\n",
              "      <td>0</td>\n",
              "      <td>...</td>\n",
              "      <td>0</td>\n",
              "      <td>0</td>\n",
              "      <td>0</td>\n",
              "      <td>0</td>\n",
              "      <td>0</td>\n",
              "      <td>0</td>\n",
              "      <td>0</td>\n",
              "      <td>0</td>\n",
              "      <td>0</td>\n",
              "      <td>0</td>\n",
              "      <td>0</td>\n",
              "      <td>0</td>\n",
              "      <td>0</td>\n",
              "      <td>0</td>\n",
              "      <td>0</td>\n",
              "      <td>0</td>\n",
              "      <td>0</td>\n",
              "      <td>0</td>\n",
              "      <td>0</td>\n",
              "      <td>0</td>\n",
              "      <td>0</td>\n",
              "      <td>0</td>\n",
              "      <td>0</td>\n",
              "      <td>0</td>\n",
              "      <td>0</td>\n",
              "      <td>0</td>\n",
              "      <td>0</td>\n",
              "      <td>0</td>\n",
              "      <td>0</td>\n",
              "      <td>0</td>\n",
              "      <td>0</td>\n",
              "      <td>0</td>\n",
              "      <td>0</td>\n",
              "      <td>0</td>\n",
              "      <td>0</td>\n",
              "      <td>0</td>\n",
              "      <td>0</td>\n",
              "      <td>0</td>\n",
              "      <td>0</td>\n",
              "      <td>0</td>\n",
              "    </tr>\n",
              "    <tr>\n",
              "      <th>2</th>\n",
              "      <td>3</td>\n",
              "      <td>0</td>\n",
              "      <td>0</td>\n",
              "      <td>0</td>\n",
              "      <td>0</td>\n",
              "      <td>0</td>\n",
              "      <td>0</td>\n",
              "      <td>0</td>\n",
              "      <td>0</td>\n",
              "      <td>0</td>\n",
              "      <td>0</td>\n",
              "      <td>0</td>\n",
              "      <td>0</td>\n",
              "      <td>0</td>\n",
              "      <td>0</td>\n",
              "      <td>0</td>\n",
              "      <td>0</td>\n",
              "      <td>0</td>\n",
              "      <td>0</td>\n",
              "      <td>0</td>\n",
              "      <td>0</td>\n",
              "      <td>0</td>\n",
              "      <td>0</td>\n",
              "      <td>0</td>\n",
              "      <td>0</td>\n",
              "      <td>0</td>\n",
              "      <td>0</td>\n",
              "      <td>0</td>\n",
              "      <td>0</td>\n",
              "      <td>0</td>\n",
              "      <td>0</td>\n",
              "      <td>0</td>\n",
              "      <td>0</td>\n",
              "      <td>0</td>\n",
              "      <td>0</td>\n",
              "      <td>0</td>\n",
              "      <td>0</td>\n",
              "      <td>0</td>\n",
              "      <td>0</td>\n",
              "      <td>0</td>\n",
              "      <td>...</td>\n",
              "      <td>0</td>\n",
              "      <td>0</td>\n",
              "      <td>0</td>\n",
              "      <td>0</td>\n",
              "      <td>0</td>\n",
              "      <td>0</td>\n",
              "      <td>0</td>\n",
              "      <td>0</td>\n",
              "      <td>0</td>\n",
              "      <td>0</td>\n",
              "      <td>0</td>\n",
              "      <td>0</td>\n",
              "      <td>0</td>\n",
              "      <td>0</td>\n",
              "      <td>0</td>\n",
              "      <td>0</td>\n",
              "      <td>0</td>\n",
              "      <td>0</td>\n",
              "      <td>0</td>\n",
              "      <td>0</td>\n",
              "      <td>0</td>\n",
              "      <td>0</td>\n",
              "      <td>0</td>\n",
              "      <td>0</td>\n",
              "      <td>0</td>\n",
              "      <td>0</td>\n",
              "      <td>0</td>\n",
              "      <td>0</td>\n",
              "      <td>0</td>\n",
              "      <td>0</td>\n",
              "      <td>0</td>\n",
              "      <td>0</td>\n",
              "      <td>0</td>\n",
              "      <td>0</td>\n",
              "      <td>0</td>\n",
              "      <td>0</td>\n",
              "      <td>0</td>\n",
              "      <td>0</td>\n",
              "      <td>0</td>\n",
              "      <td>0</td>\n",
              "    </tr>\n",
              "    <tr>\n",
              "      <th>3</th>\n",
              "      <td>4</td>\n",
              "      <td>0</td>\n",
              "      <td>0</td>\n",
              "      <td>0</td>\n",
              "      <td>0</td>\n",
              "      <td>0</td>\n",
              "      <td>0</td>\n",
              "      <td>0</td>\n",
              "      <td>0</td>\n",
              "      <td>0</td>\n",
              "      <td>0</td>\n",
              "      <td>0</td>\n",
              "      <td>0</td>\n",
              "      <td>0</td>\n",
              "      <td>0</td>\n",
              "      <td>0</td>\n",
              "      <td>0</td>\n",
              "      <td>0</td>\n",
              "      <td>0</td>\n",
              "      <td>0</td>\n",
              "      <td>0</td>\n",
              "      <td>0</td>\n",
              "      <td>0</td>\n",
              "      <td>0</td>\n",
              "      <td>0</td>\n",
              "      <td>0</td>\n",
              "      <td>0</td>\n",
              "      <td>0</td>\n",
              "      <td>0</td>\n",
              "      <td>0</td>\n",
              "      <td>0</td>\n",
              "      <td>0</td>\n",
              "      <td>0</td>\n",
              "      <td>0</td>\n",
              "      <td>0</td>\n",
              "      <td>0</td>\n",
              "      <td>0</td>\n",
              "      <td>0</td>\n",
              "      <td>0</td>\n",
              "      <td>0</td>\n",
              "      <td>...</td>\n",
              "      <td>0</td>\n",
              "      <td>0</td>\n",
              "      <td>0</td>\n",
              "      <td>0</td>\n",
              "      <td>0</td>\n",
              "      <td>0</td>\n",
              "      <td>0</td>\n",
              "      <td>0</td>\n",
              "      <td>0</td>\n",
              "      <td>0</td>\n",
              "      <td>0</td>\n",
              "      <td>0</td>\n",
              "      <td>0</td>\n",
              "      <td>0</td>\n",
              "      <td>0</td>\n",
              "      <td>0</td>\n",
              "      <td>0</td>\n",
              "      <td>0</td>\n",
              "      <td>0</td>\n",
              "      <td>0</td>\n",
              "      <td>0</td>\n",
              "      <td>0</td>\n",
              "      <td>0</td>\n",
              "      <td>0</td>\n",
              "      <td>0</td>\n",
              "      <td>0</td>\n",
              "      <td>0</td>\n",
              "      <td>0</td>\n",
              "      <td>0</td>\n",
              "      <td>0</td>\n",
              "      <td>0</td>\n",
              "      <td>0</td>\n",
              "      <td>0</td>\n",
              "      <td>0</td>\n",
              "      <td>0</td>\n",
              "      <td>0</td>\n",
              "      <td>0</td>\n",
              "      <td>0</td>\n",
              "      <td>0</td>\n",
              "      <td>0</td>\n",
              "    </tr>\n",
              "    <tr>\n",
              "      <th>4</th>\n",
              "      <td>5</td>\n",
              "      <td>0</td>\n",
              "      <td>0</td>\n",
              "      <td>0</td>\n",
              "      <td>0</td>\n",
              "      <td>0</td>\n",
              "      <td>0</td>\n",
              "      <td>0</td>\n",
              "      <td>0</td>\n",
              "      <td>0</td>\n",
              "      <td>0</td>\n",
              "      <td>0</td>\n",
              "      <td>0</td>\n",
              "      <td>0</td>\n",
              "      <td>0</td>\n",
              "      <td>0</td>\n",
              "      <td>0</td>\n",
              "      <td>0</td>\n",
              "      <td>0</td>\n",
              "      <td>0</td>\n",
              "      <td>0</td>\n",
              "      <td>0</td>\n",
              "      <td>0</td>\n",
              "      <td>0</td>\n",
              "      <td>0</td>\n",
              "      <td>0</td>\n",
              "      <td>0</td>\n",
              "      <td>0</td>\n",
              "      <td>0</td>\n",
              "      <td>0</td>\n",
              "      <td>0</td>\n",
              "      <td>0</td>\n",
              "      <td>0</td>\n",
              "      <td>0</td>\n",
              "      <td>0</td>\n",
              "      <td>0</td>\n",
              "      <td>0</td>\n",
              "      <td>0</td>\n",
              "      <td>0</td>\n",
              "      <td>0</td>\n",
              "      <td>...</td>\n",
              "      <td>0</td>\n",
              "      <td>0</td>\n",
              "      <td>0</td>\n",
              "      <td>0</td>\n",
              "      <td>0</td>\n",
              "      <td>0</td>\n",
              "      <td>0</td>\n",
              "      <td>0</td>\n",
              "      <td>0</td>\n",
              "      <td>0</td>\n",
              "      <td>0</td>\n",
              "      <td>0</td>\n",
              "      <td>0</td>\n",
              "      <td>0</td>\n",
              "      <td>0</td>\n",
              "      <td>0</td>\n",
              "      <td>0</td>\n",
              "      <td>0</td>\n",
              "      <td>0</td>\n",
              "      <td>0</td>\n",
              "      <td>0</td>\n",
              "      <td>0</td>\n",
              "      <td>0</td>\n",
              "      <td>0</td>\n",
              "      <td>0</td>\n",
              "      <td>0</td>\n",
              "      <td>0</td>\n",
              "      <td>0</td>\n",
              "      <td>0</td>\n",
              "      <td>0</td>\n",
              "      <td>0</td>\n",
              "      <td>0</td>\n",
              "      <td>0</td>\n",
              "      <td>0</td>\n",
              "      <td>0</td>\n",
              "      <td>0</td>\n",
              "      <td>0</td>\n",
              "      <td>0</td>\n",
              "      <td>0</td>\n",
              "      <td>0</td>\n",
              "    </tr>\n",
              "  </tbody>\n",
              "</table>\n",
              "<p>5 rows × 4113 columns</p>\n",
              "</div>"
            ],
            "text/plain": [
              "   ID  hs_0  hs_1  hs_2  hs_3  ...  hs_4107  hs_4108  hs_4109  hs_4110  hs_4111\n",
              "0   1     0     0     0     0  ...        0        0        0        0        0\n",
              "1   2     0     0     0     0  ...        0        0        0        0        0\n",
              "2   3     0     0     0     0  ...        0        0        0        0        0\n",
              "3   4     0     0     0     0  ...        0        0        0        0        0\n",
              "4   5     0     0     0     0  ...        0        0        0        0        0\n",
              "\n",
              "[5 rows x 4113 columns]"
            ]
          },
          "metadata": {
            "tags": []
          },
          "execution_count": 18
        }
      ]
    },
    {
      "cell_type": "code",
      "metadata": {
        "id": "NGNdAuzCYb9C",
        "colab_type": "code",
        "outputId": "8c0e9edd-99b7-462c-fcc9-7c0111ae5487",
        "colab": {
          "base_uri": "https://localhost:8080/",
          "height": 34
        }
      },
      "source": [
        "new_ohe.shape , df_tab.shape"
      ],
      "execution_count": 19,
      "outputs": [
        {
          "output_type": "execute_result",
          "data": {
            "text/plain": [
              "((4869, 4113), (14581, 45))"
            ]
          },
          "metadata": {
            "tags": []
          },
          "execution_count": 19
        }
      ]
    },
    {
      "cell_type": "markdown",
      "metadata": {
        "id": "d-prqAc90jMB",
        "colab_type": "text"
      },
      "source": [
        "### Data preparation\n",
        "\n",
        "* Imputting missing values in df_tab columns V_1:V_43\n",
        "* Adding hashed categorical variable data\n",
        "* Adding hashed variable data\n",
        "* Scaling the data\n",
        "* Split for train, test and sumbission datasets\n",
        "\n"
      ]
    },
    {
      "cell_type": "markdown",
      "metadata": {
        "id": "zf0-u_H78PiB",
        "colab_type": "text"
      },
      "source": [
        "#### **Imputting missing values in df_tab columns V_1:V_43**"
      ]
    },
    {
      "cell_type": "code",
      "metadata": {
        "id": "LnO3K5v35ndg",
        "colab_type": "code",
        "colab": {}
      },
      "source": [
        "from sklearn.impute import SimpleImputer\n",
        "imp_ = SimpleImputer(missing_values=np.nan, strategy='median')\n",
        "\n",
        "df_tab.loc[:,'V_1':'V_43'] = df_tab.loc[:,'V_1':'V_43'].fillna(np.nan)\n",
        "df_tab.loc[:,'V_1':'V_43'] = imp_.fit_transform(df_tab.loc[:,'V_1':'V_43'].values)"
      ],
      "execution_count": 0,
      "outputs": []
    },
    {
      "cell_type": "markdown",
      "metadata": {
        "colab_type": "text",
        "id": "i1kLNDEF-Cs1"
      },
      "source": [
        "#### **Adding hashed categorical variable data**"
      ]
    },
    {
      "cell_type": "code",
      "metadata": {
        "id": "XFtriBeOwzF6",
        "colab_type": "code",
        "colab": {}
      },
      "source": [
        "# Groupby Period and drop period variable\n",
        "df_tab = df_tab.loc[:,'ID':'V_43'].groupby(['ID'],as_index=False).sum()"
      ],
      "execution_count": 0,
      "outputs": []
    },
    {
      "cell_type": "code",
      "metadata": {
        "id": "XfliOEjAvft0",
        "colab_type": "code",
        "colab": {}
      },
      "source": [
        "# Concat dataframes\n",
        "df_final = pd.merge(df_tab, \n",
        "                   new_ohe, \n",
        "                   on = 'ID')"
      ],
      "execution_count": 0,
      "outputs": []
    },
    {
      "cell_type": "code",
      "metadata": {
        "id": "simnMcg76mPh",
        "colab_type": "code",
        "colab": {
          "base_uri": "https://localhost:8080/",
          "height": 34
        },
        "outputId": "f6c30499-087d-468e-8858-e724d4103954"
      },
      "source": [
        "df_tab.shape, new_ohe.shape, df_final.shape,"
      ],
      "execution_count": 25,
      "outputs": [
        {
          "output_type": "execute_result",
          "data": {
            "text/plain": [
              "((4871, 44), (4869, 4113), (4869, 4156))"
            ]
          },
          "metadata": {
            "tags": []
          },
          "execution_count": 25
        }
      ]
    },
    {
      "cell_type": "code",
      "metadata": {
        "id": "HBgyiMAs3fN8",
        "colab_type": "code",
        "colab": {
          "base_uri": "https://localhost:8080/",
          "height": 34
        },
        "outputId": "e6ef99e4-2b30-4e68-cd7d-52bbae2732ec"
      },
      "source": [
        "# Identifying missing IDs. \n",
        "s1 = set(df_tab['ID'])\n",
        "s2 = set(new_ohe['ID'])\n",
        "s1.difference(s2)"
      ],
      "execution_count": 26,
      "outputs": [
        {
          "output_type": "execute_result",
          "data": {
            "text/plain": [
              "{2855, 3993}"
            ]
          },
          "metadata": {
            "tags": []
          },
          "execution_count": 26
        }
      ]
    },
    {
      "cell_type": "markdown",
      "metadata": {
        "id": "764UELv5IjVk",
        "colab_type": "text"
      },
      "source": [
        "*There is one ID missing in the train data and we won't impute it and there is one id missing in the test data. We'll have to insert this value in the final list to make sure the prediction file has correct lenghts. "
      ]
    },
    {
      "cell_type": "code",
      "metadata": {
        "id": "O_nrLLRxPlEU",
        "colab_type": "code",
        "colab": {
          "base_uri": "https://localhost:8080/",
          "height": 253
        },
        "outputId": "01bd6c31-1592-40d5-c688-05c0206f273f"
      },
      "source": [
        "df_final.head()"
      ],
      "execution_count": 28,
      "outputs": [
        {
          "output_type": "execute_result",
          "data": {
            "text/html": [
              "<div>\n",
              "<style scoped>\n",
              "    .dataframe tbody tr th:only-of-type {\n",
              "        vertical-align: middle;\n",
              "    }\n",
              "\n",
              "    .dataframe tbody tr th {\n",
              "        vertical-align: top;\n",
              "    }\n",
              "\n",
              "    .dataframe thead th {\n",
              "        text-align: right;\n",
              "    }\n",
              "</style>\n",
              "<table border=\"1\" class=\"dataframe\">\n",
              "  <thead>\n",
              "    <tr style=\"text-align: right;\">\n",
              "      <th></th>\n",
              "      <th>ID</th>\n",
              "      <th>V_1</th>\n",
              "      <th>V_2</th>\n",
              "      <th>V_3</th>\n",
              "      <th>V_4</th>\n",
              "      <th>V_5</th>\n",
              "      <th>V_6</th>\n",
              "      <th>V_7</th>\n",
              "      <th>V_8</th>\n",
              "      <th>V_9</th>\n",
              "      <th>V_10</th>\n",
              "      <th>V_11</th>\n",
              "      <th>V_12</th>\n",
              "      <th>V_13</th>\n",
              "      <th>V_14</th>\n",
              "      <th>V_15</th>\n",
              "      <th>V_16</th>\n",
              "      <th>V_17</th>\n",
              "      <th>V_18</th>\n",
              "      <th>V_19</th>\n",
              "      <th>V_20</th>\n",
              "      <th>V_21</th>\n",
              "      <th>V_22</th>\n",
              "      <th>V_23</th>\n",
              "      <th>V_24</th>\n",
              "      <th>V_25</th>\n",
              "      <th>V_26</th>\n",
              "      <th>V_27</th>\n",
              "      <th>V_28</th>\n",
              "      <th>V_29</th>\n",
              "      <th>V_30</th>\n",
              "      <th>V_31</th>\n",
              "      <th>V_32</th>\n",
              "      <th>V_33</th>\n",
              "      <th>V_34</th>\n",
              "      <th>V_35</th>\n",
              "      <th>V_36</th>\n",
              "      <th>V_37</th>\n",
              "      <th>V_38</th>\n",
              "      <th>V_39</th>\n",
              "      <th>...</th>\n",
              "      <th>hs_4072</th>\n",
              "      <th>hs_4073</th>\n",
              "      <th>hs_4074</th>\n",
              "      <th>hs_4075</th>\n",
              "      <th>hs_4076</th>\n",
              "      <th>hs_4077</th>\n",
              "      <th>hs_4078</th>\n",
              "      <th>hs_4079</th>\n",
              "      <th>hs_4080</th>\n",
              "      <th>hs_4081</th>\n",
              "      <th>hs_4082</th>\n",
              "      <th>hs_4083</th>\n",
              "      <th>hs_4084</th>\n",
              "      <th>hs_4085</th>\n",
              "      <th>hs_4086</th>\n",
              "      <th>hs_4087</th>\n",
              "      <th>hs_4088</th>\n",
              "      <th>hs_4089</th>\n",
              "      <th>hs_4090</th>\n",
              "      <th>hs_4091</th>\n",
              "      <th>hs_4092</th>\n",
              "      <th>hs_4093</th>\n",
              "      <th>hs_4094</th>\n",
              "      <th>hs_4095</th>\n",
              "      <th>hs_4096</th>\n",
              "      <th>hs_4097</th>\n",
              "      <th>hs_4098</th>\n",
              "      <th>hs_4099</th>\n",
              "      <th>hs_4100</th>\n",
              "      <th>hs_4101</th>\n",
              "      <th>hs_4102</th>\n",
              "      <th>hs_4103</th>\n",
              "      <th>hs_4104</th>\n",
              "      <th>hs_4105</th>\n",
              "      <th>hs_4106</th>\n",
              "      <th>hs_4107</th>\n",
              "      <th>hs_4108</th>\n",
              "      <th>hs_4109</th>\n",
              "      <th>hs_4110</th>\n",
              "      <th>hs_4111</th>\n",
              "    </tr>\n",
              "  </thead>\n",
              "  <tbody>\n",
              "    <tr>\n",
              "      <th>0</th>\n",
              "      <td>1</td>\n",
              "      <td>68.0</td>\n",
              "      <td>0.0</td>\n",
              "      <td>0.0</td>\n",
              "      <td>3.0</td>\n",
              "      <td>3.0</td>\n",
              "      <td>0.0</td>\n",
              "      <td>1.0</td>\n",
              "      <td>0.0</td>\n",
              "      <td>0.0</td>\n",
              "      <td>68.0</td>\n",
              "      <td>5.0</td>\n",
              "      <td>135.825</td>\n",
              "      <td>524.26</td>\n",
              "      <td>516.29</td>\n",
              "      <td>6.95</td>\n",
              "      <td>0.0</td>\n",
              "      <td>0.0</td>\n",
              "      <td>1.02</td>\n",
              "      <td>1.0</td>\n",
              "      <td>0.0</td>\n",
              "      <td>0.0</td>\n",
              "      <td>0.000000</td>\n",
              "      <td>436.150</td>\n",
              "      <td>425.50</td>\n",
              "      <td>10.65</td>\n",
              "      <td>0.00</td>\n",
              "      <td>0.0</td>\n",
              "      <td>210.0</td>\n",
              "      <td>198.0</td>\n",
              "      <td>5.0</td>\n",
              "      <td>0.0</td>\n",
              "      <td>112.0</td>\n",
              "      <td>107.0</td>\n",
              "      <td>5.0</td>\n",
              "      <td>0.0</td>\n",
              "      <td>0.0</td>\n",
              "      <td>140.12</td>\n",
              "      <td>2.322500</td>\n",
              "      <td>0.0</td>\n",
              "      <td>...</td>\n",
              "      <td>0</td>\n",
              "      <td>0</td>\n",
              "      <td>0</td>\n",
              "      <td>0</td>\n",
              "      <td>0</td>\n",
              "      <td>0</td>\n",
              "      <td>0</td>\n",
              "      <td>0</td>\n",
              "      <td>0</td>\n",
              "      <td>0</td>\n",
              "      <td>0</td>\n",
              "      <td>0</td>\n",
              "      <td>0</td>\n",
              "      <td>0</td>\n",
              "      <td>0</td>\n",
              "      <td>0</td>\n",
              "      <td>0</td>\n",
              "      <td>0</td>\n",
              "      <td>0</td>\n",
              "      <td>0</td>\n",
              "      <td>0</td>\n",
              "      <td>0</td>\n",
              "      <td>0</td>\n",
              "      <td>0</td>\n",
              "      <td>0</td>\n",
              "      <td>0</td>\n",
              "      <td>0</td>\n",
              "      <td>0</td>\n",
              "      <td>0</td>\n",
              "      <td>0</td>\n",
              "      <td>0</td>\n",
              "      <td>0</td>\n",
              "      <td>0</td>\n",
              "      <td>0</td>\n",
              "      <td>0</td>\n",
              "      <td>0</td>\n",
              "      <td>0</td>\n",
              "      <td>0</td>\n",
              "      <td>0</td>\n",
              "      <td>0</td>\n",
              "    </tr>\n",
              "    <tr>\n",
              "      <th>1</th>\n",
              "      <td>2</td>\n",
              "      <td>82.0</td>\n",
              "      <td>0.0</td>\n",
              "      <td>0.0</td>\n",
              "      <td>3.0</td>\n",
              "      <td>3.0</td>\n",
              "      <td>0.0</td>\n",
              "      <td>0.0</td>\n",
              "      <td>0.0</td>\n",
              "      <td>0.0</td>\n",
              "      <td>80.0</td>\n",
              "      <td>19.0</td>\n",
              "      <td>86.060</td>\n",
              "      <td>775.24</td>\n",
              "      <td>711.85</td>\n",
              "      <td>62.39</td>\n",
              "      <td>0.0</td>\n",
              "      <td>0.0</td>\n",
              "      <td>1.30</td>\n",
              "      <td>0.0</td>\n",
              "      <td>0.0</td>\n",
              "      <td>0.0</td>\n",
              "      <td>0.000000</td>\n",
              "      <td>1071.825</td>\n",
              "      <td>985.61</td>\n",
              "      <td>52.12</td>\n",
              "      <td>0.00</td>\n",
              "      <td>0.0</td>\n",
              "      <td>474.0</td>\n",
              "      <td>444.0</td>\n",
              "      <td>17.0</td>\n",
              "      <td>0.0</td>\n",
              "      <td>594.0</td>\n",
              "      <td>571.0</td>\n",
              "      <td>19.0</td>\n",
              "      <td>0.0</td>\n",
              "      <td>0.0</td>\n",
              "      <td>370.00</td>\n",
              "      <td>7.767500</td>\n",
              "      <td>0.0</td>\n",
              "      <td>...</td>\n",
              "      <td>0</td>\n",
              "      <td>0</td>\n",
              "      <td>0</td>\n",
              "      <td>0</td>\n",
              "      <td>0</td>\n",
              "      <td>0</td>\n",
              "      <td>0</td>\n",
              "      <td>0</td>\n",
              "      <td>0</td>\n",
              "      <td>0</td>\n",
              "      <td>0</td>\n",
              "      <td>0</td>\n",
              "      <td>0</td>\n",
              "      <td>0</td>\n",
              "      <td>0</td>\n",
              "      <td>0</td>\n",
              "      <td>0</td>\n",
              "      <td>0</td>\n",
              "      <td>0</td>\n",
              "      <td>0</td>\n",
              "      <td>0</td>\n",
              "      <td>0</td>\n",
              "      <td>0</td>\n",
              "      <td>0</td>\n",
              "      <td>0</td>\n",
              "      <td>0</td>\n",
              "      <td>0</td>\n",
              "      <td>0</td>\n",
              "      <td>0</td>\n",
              "      <td>0</td>\n",
              "      <td>0</td>\n",
              "      <td>0</td>\n",
              "      <td>0</td>\n",
              "      <td>0</td>\n",
              "      <td>0</td>\n",
              "      <td>0</td>\n",
              "      <td>0</td>\n",
              "      <td>0</td>\n",
              "      <td>0</td>\n",
              "      <td>0</td>\n",
              "    </tr>\n",
              "    <tr>\n",
              "      <th>2</th>\n",
              "      <td>3</td>\n",
              "      <td>80.0</td>\n",
              "      <td>60.0</td>\n",
              "      <td>10.0</td>\n",
              "      <td>3.0</td>\n",
              "      <td>3.0</td>\n",
              "      <td>0.0</td>\n",
              "      <td>3.0</td>\n",
              "      <td>3.0</td>\n",
              "      <td>1.0</td>\n",
              "      <td>80.0</td>\n",
              "      <td>39.0</td>\n",
              "      <td>90.520</td>\n",
              "      <td>1352.78</td>\n",
              "      <td>1205.68</td>\n",
              "      <td>99.27</td>\n",
              "      <td>0.0</td>\n",
              "      <td>0.0</td>\n",
              "      <td>5.14</td>\n",
              "      <td>13.0</td>\n",
              "      <td>4.0</td>\n",
              "      <td>0.0</td>\n",
              "      <td>7004.196094</td>\n",
              "      <td>1426.330</td>\n",
              "      <td>1327.67</td>\n",
              "      <td>98.66</td>\n",
              "      <td>0.02</td>\n",
              "      <td>0.0</td>\n",
              "      <td>558.0</td>\n",
              "      <td>406.0</td>\n",
              "      <td>61.0</td>\n",
              "      <td>0.0</td>\n",
              "      <td>414.0</td>\n",
              "      <td>448.0</td>\n",
              "      <td>43.0</td>\n",
              "      <td>1.0</td>\n",
              "      <td>0.0</td>\n",
              "      <td>535.47</td>\n",
              "      <td>201.802212</td>\n",
              "      <td>57.0</td>\n",
              "      <td>...</td>\n",
              "      <td>0</td>\n",
              "      <td>0</td>\n",
              "      <td>0</td>\n",
              "      <td>0</td>\n",
              "      <td>0</td>\n",
              "      <td>0</td>\n",
              "      <td>0</td>\n",
              "      <td>0</td>\n",
              "      <td>0</td>\n",
              "      <td>0</td>\n",
              "      <td>0</td>\n",
              "      <td>0</td>\n",
              "      <td>0</td>\n",
              "      <td>0</td>\n",
              "      <td>0</td>\n",
              "      <td>0</td>\n",
              "      <td>0</td>\n",
              "      <td>0</td>\n",
              "      <td>0</td>\n",
              "      <td>0</td>\n",
              "      <td>0</td>\n",
              "      <td>0</td>\n",
              "      <td>0</td>\n",
              "      <td>0</td>\n",
              "      <td>0</td>\n",
              "      <td>0</td>\n",
              "      <td>0</td>\n",
              "      <td>0</td>\n",
              "      <td>0</td>\n",
              "      <td>0</td>\n",
              "      <td>0</td>\n",
              "      <td>0</td>\n",
              "      <td>0</td>\n",
              "      <td>0</td>\n",
              "      <td>0</td>\n",
              "      <td>0</td>\n",
              "      <td>0</td>\n",
              "      <td>0</td>\n",
              "      <td>0</td>\n",
              "      <td>0</td>\n",
              "    </tr>\n",
              "    <tr>\n",
              "      <th>3</th>\n",
              "      <td>4</td>\n",
              "      <td>64.0</td>\n",
              "      <td>69.0</td>\n",
              "      <td>1.0</td>\n",
              "      <td>3.0</td>\n",
              "      <td>3.0</td>\n",
              "      <td>0.0</td>\n",
              "      <td>2.0</td>\n",
              "      <td>3.0</td>\n",
              "      <td>0.0</td>\n",
              "      <td>59.0</td>\n",
              "      <td>22.0</td>\n",
              "      <td>288.605</td>\n",
              "      <td>1165.54</td>\n",
              "      <td>1066.18</td>\n",
              "      <td>98.07</td>\n",
              "      <td>0.0</td>\n",
              "      <td>0.0</td>\n",
              "      <td>1.29</td>\n",
              "      <td>27.0</td>\n",
              "      <td>1.0</td>\n",
              "      <td>0.0</td>\n",
              "      <td>14803.948863</td>\n",
              "      <td>613.970</td>\n",
              "      <td>520.64</td>\n",
              "      <td>32.10</td>\n",
              "      <td>0.02</td>\n",
              "      <td>0.0</td>\n",
              "      <td>255.0</td>\n",
              "      <td>252.0</td>\n",
              "      <td>13.0</td>\n",
              "      <td>0.0</td>\n",
              "      <td>178.0</td>\n",
              "      <td>148.0</td>\n",
              "      <td>29.0</td>\n",
              "      <td>0.0</td>\n",
              "      <td>0.0</td>\n",
              "      <td>285.00</td>\n",
              "      <td>4.767932</td>\n",
              "      <td>69.0</td>\n",
              "      <td>...</td>\n",
              "      <td>0</td>\n",
              "      <td>0</td>\n",
              "      <td>0</td>\n",
              "      <td>0</td>\n",
              "      <td>0</td>\n",
              "      <td>0</td>\n",
              "      <td>0</td>\n",
              "      <td>0</td>\n",
              "      <td>0</td>\n",
              "      <td>0</td>\n",
              "      <td>0</td>\n",
              "      <td>0</td>\n",
              "      <td>0</td>\n",
              "      <td>0</td>\n",
              "      <td>0</td>\n",
              "      <td>0</td>\n",
              "      <td>0</td>\n",
              "      <td>0</td>\n",
              "      <td>0</td>\n",
              "      <td>0</td>\n",
              "      <td>0</td>\n",
              "      <td>0</td>\n",
              "      <td>0</td>\n",
              "      <td>0</td>\n",
              "      <td>0</td>\n",
              "      <td>0</td>\n",
              "      <td>0</td>\n",
              "      <td>0</td>\n",
              "      <td>0</td>\n",
              "      <td>0</td>\n",
              "      <td>0</td>\n",
              "      <td>0</td>\n",
              "      <td>0</td>\n",
              "      <td>0</td>\n",
              "      <td>0</td>\n",
              "      <td>0</td>\n",
              "      <td>0</td>\n",
              "      <td>0</td>\n",
              "      <td>0</td>\n",
              "      <td>0</td>\n",
              "    </tr>\n",
              "    <tr>\n",
              "      <th>4</th>\n",
              "      <td>5</td>\n",
              "      <td>83.0</td>\n",
              "      <td>0.0</td>\n",
              "      <td>0.0</td>\n",
              "      <td>3.0</td>\n",
              "      <td>2.0</td>\n",
              "      <td>0.0</td>\n",
              "      <td>0.0</td>\n",
              "      <td>0.0</td>\n",
              "      <td>0.0</td>\n",
              "      <td>79.0</td>\n",
              "      <td>1.0</td>\n",
              "      <td>158.000</td>\n",
              "      <td>558.98</td>\n",
              "      <td>546.13</td>\n",
              "      <td>2.13</td>\n",
              "      <td>0.0</td>\n",
              "      <td>0.0</td>\n",
              "      <td>10.72</td>\n",
              "      <td>0.0</td>\n",
              "      <td>0.0</td>\n",
              "      <td>0.0</td>\n",
              "      <td>0.000000</td>\n",
              "      <td>723.265</td>\n",
              "      <td>588.74</td>\n",
              "      <td>13.87</td>\n",
              "      <td>0.00</td>\n",
              "      <td>0.0</td>\n",
              "      <td>322.0</td>\n",
              "      <td>271.0</td>\n",
              "      <td>3.0</td>\n",
              "      <td>0.0</td>\n",
              "      <td>303.0</td>\n",
              "      <td>300.0</td>\n",
              "      <td>3.0</td>\n",
              "      <td>0.0</td>\n",
              "      <td>0.0</td>\n",
              "      <td>170.00</td>\n",
              "      <td>0.815833</td>\n",
              "      <td>0.0</td>\n",
              "      <td>...</td>\n",
              "      <td>0</td>\n",
              "      <td>0</td>\n",
              "      <td>0</td>\n",
              "      <td>0</td>\n",
              "      <td>0</td>\n",
              "      <td>0</td>\n",
              "      <td>0</td>\n",
              "      <td>0</td>\n",
              "      <td>0</td>\n",
              "      <td>0</td>\n",
              "      <td>0</td>\n",
              "      <td>0</td>\n",
              "      <td>0</td>\n",
              "      <td>0</td>\n",
              "      <td>0</td>\n",
              "      <td>0</td>\n",
              "      <td>0</td>\n",
              "      <td>0</td>\n",
              "      <td>0</td>\n",
              "      <td>0</td>\n",
              "      <td>0</td>\n",
              "      <td>0</td>\n",
              "      <td>0</td>\n",
              "      <td>0</td>\n",
              "      <td>0</td>\n",
              "      <td>0</td>\n",
              "      <td>0</td>\n",
              "      <td>0</td>\n",
              "      <td>0</td>\n",
              "      <td>0</td>\n",
              "      <td>0</td>\n",
              "      <td>0</td>\n",
              "      <td>0</td>\n",
              "      <td>0</td>\n",
              "      <td>0</td>\n",
              "      <td>0</td>\n",
              "      <td>0</td>\n",
              "      <td>0</td>\n",
              "      <td>0</td>\n",
              "      <td>0</td>\n",
              "    </tr>\n",
              "  </tbody>\n",
              "</table>\n",
              "<p>5 rows × 4156 columns</p>\n",
              "</div>"
            ],
            "text/plain": [
              "   ID   V_1   V_2   V_3  V_4  ...  hs_4107  hs_4108  hs_4109  hs_4110  hs_4111\n",
              "0   1  68.0   0.0   0.0  3.0  ...        0        0        0        0        0\n",
              "1   2  82.0   0.0   0.0  3.0  ...        0        0        0        0        0\n",
              "2   3  80.0  60.0  10.0  3.0  ...        0        0        0        0        0\n",
              "3   4  64.0  69.0   1.0  3.0  ...        0        0        0        0        0\n",
              "4   5  83.0   0.0   0.0  3.0  ...        0        0        0        0        0\n",
              "\n",
              "[5 rows x 4156 columns]"
            ]
          },
          "metadata": {
            "tags": []
          },
          "execution_count": 28
        }
      ]
    },
    {
      "cell_type": "code",
      "metadata": {
        "id": "TEcwuWRAoMuj",
        "colab_type": "code",
        "colab": {
          "base_uri": "https://localhost:8080/",
          "height": 34
        },
        "outputId": "dca305d8-0400-453e-ab17-18b62191561c"
      },
      "source": [
        "# There are no missing values in the final dataframe\n",
        "sum(df_final.isna().sum())"
      ],
      "execution_count": 29,
      "outputs": [
        {
          "output_type": "execute_result",
          "data": {
            "text/plain": [
              "0"
            ]
          },
          "metadata": {
            "tags": []
          },
          "execution_count": 29
        }
      ]
    },
    {
      "cell_type": "markdown",
      "metadata": {
        "id": "HJvF9GxiRCQr",
        "colab_type": "text"
      },
      "source": [
        "#### **Scaling**"
      ]
    },
    {
      "cell_type": "code",
      "metadata": {
        "id": "U75tGoCERESW",
        "colab_type": "code",
        "colab": {}
      },
      "source": [
        "from sklearn.preprocessing import StandardScaler\n",
        "feature_scaler = StandardScaler()\n",
        "df_final.loc[:, 'V_1':] = feature_scaler.fit_transform(df_final.loc[:, 'V_1':])"
      ],
      "execution_count": 0,
      "outputs": []
    },
    {
      "cell_type": "code",
      "metadata": {
        "id": "FSNUbPGKRUOy",
        "colab_type": "code",
        "colab": {
          "base_uri": "https://localhost:8080/",
          "height": 253
        },
        "outputId": "619f68b3-2689-46d7-feb2-c0b9870a650f"
      },
      "source": [
        "df_final.head()"
      ],
      "execution_count": 31,
      "outputs": [
        {
          "output_type": "execute_result",
          "data": {
            "text/html": [
              "<div>\n",
              "<style scoped>\n",
              "    .dataframe tbody tr th:only-of-type {\n",
              "        vertical-align: middle;\n",
              "    }\n",
              "\n",
              "    .dataframe tbody tr th {\n",
              "        vertical-align: top;\n",
              "    }\n",
              "\n",
              "    .dataframe thead th {\n",
              "        text-align: right;\n",
              "    }\n",
              "</style>\n",
              "<table border=\"1\" class=\"dataframe\">\n",
              "  <thead>\n",
              "    <tr style=\"text-align: right;\">\n",
              "      <th></th>\n",
              "      <th>ID</th>\n",
              "      <th>V_1</th>\n",
              "      <th>V_2</th>\n",
              "      <th>V_3</th>\n",
              "      <th>V_4</th>\n",
              "      <th>V_5</th>\n",
              "      <th>V_6</th>\n",
              "      <th>V_7</th>\n",
              "      <th>V_8</th>\n",
              "      <th>V_9</th>\n",
              "      <th>V_10</th>\n",
              "      <th>V_11</th>\n",
              "      <th>V_12</th>\n",
              "      <th>V_13</th>\n",
              "      <th>V_14</th>\n",
              "      <th>V_15</th>\n",
              "      <th>V_16</th>\n",
              "      <th>V_17</th>\n",
              "      <th>V_18</th>\n",
              "      <th>V_19</th>\n",
              "      <th>V_20</th>\n",
              "      <th>V_21</th>\n",
              "      <th>V_22</th>\n",
              "      <th>V_23</th>\n",
              "      <th>V_24</th>\n",
              "      <th>V_25</th>\n",
              "      <th>V_26</th>\n",
              "      <th>V_27</th>\n",
              "      <th>V_28</th>\n",
              "      <th>V_29</th>\n",
              "      <th>V_30</th>\n",
              "      <th>V_31</th>\n",
              "      <th>V_32</th>\n",
              "      <th>V_33</th>\n",
              "      <th>V_34</th>\n",
              "      <th>V_35</th>\n",
              "      <th>V_36</th>\n",
              "      <th>V_37</th>\n",
              "      <th>V_38</th>\n",
              "      <th>V_39</th>\n",
              "      <th>...</th>\n",
              "      <th>hs_4072</th>\n",
              "      <th>hs_4073</th>\n",
              "      <th>hs_4074</th>\n",
              "      <th>hs_4075</th>\n",
              "      <th>hs_4076</th>\n",
              "      <th>hs_4077</th>\n",
              "      <th>hs_4078</th>\n",
              "      <th>hs_4079</th>\n",
              "      <th>hs_4080</th>\n",
              "      <th>hs_4081</th>\n",
              "      <th>hs_4082</th>\n",
              "      <th>hs_4083</th>\n",
              "      <th>hs_4084</th>\n",
              "      <th>hs_4085</th>\n",
              "      <th>hs_4086</th>\n",
              "      <th>hs_4087</th>\n",
              "      <th>hs_4088</th>\n",
              "      <th>hs_4089</th>\n",
              "      <th>hs_4090</th>\n",
              "      <th>hs_4091</th>\n",
              "      <th>hs_4092</th>\n",
              "      <th>hs_4093</th>\n",
              "      <th>hs_4094</th>\n",
              "      <th>hs_4095</th>\n",
              "      <th>hs_4096</th>\n",
              "      <th>hs_4097</th>\n",
              "      <th>hs_4098</th>\n",
              "      <th>hs_4099</th>\n",
              "      <th>hs_4100</th>\n",
              "      <th>hs_4101</th>\n",
              "      <th>hs_4102</th>\n",
              "      <th>hs_4103</th>\n",
              "      <th>hs_4104</th>\n",
              "      <th>hs_4105</th>\n",
              "      <th>hs_4106</th>\n",
              "      <th>hs_4107</th>\n",
              "      <th>hs_4108</th>\n",
              "      <th>hs_4109</th>\n",
              "      <th>hs_4110</th>\n",
              "      <th>hs_4111</th>\n",
              "    </tr>\n",
              "  </thead>\n",
              "  <tbody>\n",
              "    <tr>\n",
              "      <th>0</th>\n",
              "      <td>1</td>\n",
              "      <td>-0.008619</td>\n",
              "      <td>-0.774058</td>\n",
              "      <td>-0.423317</td>\n",
              "      <td>0.314064</td>\n",
              "      <td>0.842440</td>\n",
              "      <td>-0.246113</td>\n",
              "      <td>0.081423</td>\n",
              "      <td>-1.025233</td>\n",
              "      <td>-0.178744</td>\n",
              "      <td>0.095802</td>\n",
              "      <td>-0.512256</td>\n",
              "      <td>-0.414552</td>\n",
              "      <td>-0.504809</td>\n",
              "      <td>-0.468069</td>\n",
              "      <td>-0.402791</td>\n",
              "      <td>-0.075898</td>\n",
              "      <td>-0.066862</td>\n",
              "      <td>-0.252067</td>\n",
              "      <td>-0.142137</td>\n",
              "      <td>-0.165994</td>\n",
              "      <td>-0.069838</td>\n",
              "      <td>-0.282466</td>\n",
              "      <td>-0.669730</td>\n",
              "      <td>-0.615179</td>\n",
              "      <td>-0.470590</td>\n",
              "      <td>-0.076054</td>\n",
              "      <td>-0.072594</td>\n",
              "      <td>-0.568652</td>\n",
              "      <td>-0.515539</td>\n",
              "      <td>-0.385588</td>\n",
              "      <td>-0.094687</td>\n",
              "      <td>-0.865376</td>\n",
              "      <td>-0.818808</td>\n",
              "      <td>-0.519491</td>\n",
              "      <td>-0.096729</td>\n",
              "      <td>-0.076695</td>\n",
              "      <td>-0.328098</td>\n",
              "      <td>-0.227087</td>\n",
              "      <td>-0.683797</td>\n",
              "      <td>...</td>\n",
              "      <td>-0.037944</td>\n",
              "      <td>-0.035126</td>\n",
              "      <td>-0.014333</td>\n",
              "      <td>-0.014333</td>\n",
              "      <td>-0.020271</td>\n",
              "      <td>-0.028674</td>\n",
              "      <td>-0.014333</td>\n",
              "      <td>-0.014333</td>\n",
              "      <td>-0.014333</td>\n",
              "      <td>-0.014333</td>\n",
              "      <td>-0.014333</td>\n",
              "      <td>-0.040568</td>\n",
              "      <td>-0.014333</td>\n",
              "      <td>-0.035126</td>\n",
              "      <td>-0.014333</td>\n",
              "      <td>-0.020271</td>\n",
              "      <td>-0.014333</td>\n",
              "      <td>-0.014333</td>\n",
              "      <td>-0.014333</td>\n",
              "      <td>-0.014333</td>\n",
              "      <td>-0.020271</td>\n",
              "      <td>-0.103899</td>\n",
              "      <td>-0.020271</td>\n",
              "      <td>-0.014333</td>\n",
              "      <td>-0.014333</td>\n",
              "      <td>-0.014333</td>\n",
              "      <td>-0.014333</td>\n",
              "      <td>-0.020271</td>\n",
              "      <td>-0.02483</td>\n",
              "      <td>-0.014333</td>\n",
              "      <td>-0.028674</td>\n",
              "      <td>-0.014333</td>\n",
              "      <td>-0.014333</td>\n",
              "      <td>-0.02483</td>\n",
              "      <td>-0.014333</td>\n",
              "      <td>-0.014333</td>\n",
              "      <td>-0.049706</td>\n",
              "      <td>-0.043033</td>\n",
              "      <td>-0.020271</td>\n",
              "      <td>-0.014333</td>\n",
              "    </tr>\n",
              "    <tr>\n",
              "      <th>1</th>\n",
              "      <td>2</td>\n",
              "      <td>0.514557</td>\n",
              "      <td>-0.774058</td>\n",
              "      <td>-0.423317</td>\n",
              "      <td>0.314064</td>\n",
              "      <td>0.842440</td>\n",
              "      <td>-0.246113</td>\n",
              "      <td>-0.840549</td>\n",
              "      <td>-1.025233</td>\n",
              "      <td>-0.178744</td>\n",
              "      <td>0.522703</td>\n",
              "      <td>0.295891</td>\n",
              "      <td>-0.566255</td>\n",
              "      <td>-0.309311</td>\n",
              "      <td>-0.313615</td>\n",
              "      <td>0.066767</td>\n",
              "      <td>-0.075898</td>\n",
              "      <td>-0.066862</td>\n",
              "      <td>-0.241942</td>\n",
              "      <td>-0.156623</td>\n",
              "      <td>-0.165994</td>\n",
              "      <td>-0.069838</td>\n",
              "      <td>-0.282466</td>\n",
              "      <td>-0.097969</td>\n",
              "      <td>-0.107363</td>\n",
              "      <td>-0.075572</td>\n",
              "      <td>-0.076054</td>\n",
              "      <td>-0.072594</td>\n",
              "      <td>0.068996</td>\n",
              "      <td>0.131449</td>\n",
              "      <td>-0.209973</td>\n",
              "      <td>-0.094687</td>\n",
              "      <td>0.500162</td>\n",
              "      <td>0.594685</td>\n",
              "      <td>-0.281861</td>\n",
              "      <td>-0.096729</td>\n",
              "      <td>-0.076695</td>\n",
              "      <td>0.689709</td>\n",
              "      <td>-0.177850</td>\n",
              "      <td>-0.683797</td>\n",
              "      <td>...</td>\n",
              "      <td>-0.037944</td>\n",
              "      <td>-0.035126</td>\n",
              "      <td>-0.014333</td>\n",
              "      <td>-0.014333</td>\n",
              "      <td>-0.020271</td>\n",
              "      <td>-0.028674</td>\n",
              "      <td>-0.014333</td>\n",
              "      <td>-0.014333</td>\n",
              "      <td>-0.014333</td>\n",
              "      <td>-0.014333</td>\n",
              "      <td>-0.014333</td>\n",
              "      <td>-0.040568</td>\n",
              "      <td>-0.014333</td>\n",
              "      <td>-0.035126</td>\n",
              "      <td>-0.014333</td>\n",
              "      <td>-0.020271</td>\n",
              "      <td>-0.014333</td>\n",
              "      <td>-0.014333</td>\n",
              "      <td>-0.014333</td>\n",
              "      <td>-0.014333</td>\n",
              "      <td>-0.020271</td>\n",
              "      <td>-0.103899</td>\n",
              "      <td>-0.020271</td>\n",
              "      <td>-0.014333</td>\n",
              "      <td>-0.014333</td>\n",
              "      <td>-0.014333</td>\n",
              "      <td>-0.014333</td>\n",
              "      <td>-0.020271</td>\n",
              "      <td>-0.02483</td>\n",
              "      <td>-0.014333</td>\n",
              "      <td>-0.028674</td>\n",
              "      <td>-0.014333</td>\n",
              "      <td>-0.014333</td>\n",
              "      <td>-0.02483</td>\n",
              "      <td>-0.014333</td>\n",
              "      <td>-0.014333</td>\n",
              "      <td>-0.049706</td>\n",
              "      <td>-0.043033</td>\n",
              "      <td>-0.020271</td>\n",
              "      <td>-0.014333</td>\n",
              "    </tr>\n",
              "    <tr>\n",
              "      <th>2</th>\n",
              "      <td>3</td>\n",
              "      <td>0.439818</td>\n",
              "      <td>1.017679</td>\n",
              "      <td>0.708239</td>\n",
              "      <td>0.314064</td>\n",
              "      <td>0.842440</td>\n",
              "      <td>-0.246113</td>\n",
              "      <td>1.925366</td>\n",
              "      <td>1.287241</td>\n",
              "      <td>1.224971</td>\n",
              "      <td>0.522703</td>\n",
              "      <td>1.450387</td>\n",
              "      <td>-0.552659</td>\n",
              "      <td>0.140557</td>\n",
              "      <td>0.076411</td>\n",
              "      <td>0.379127</td>\n",
              "      <td>-0.075898</td>\n",
              "      <td>-0.066862</td>\n",
              "      <td>-0.103086</td>\n",
              "      <td>0.031701</td>\n",
              "      <td>0.075682</td>\n",
              "      <td>-0.069838</td>\n",
              "      <td>0.208199</td>\n",
              "      <td>0.220892</td>\n",
              "      <td>0.202761</td>\n",
              "      <td>0.367739</td>\n",
              "      <td>-0.075897</td>\n",
              "      <td>-0.072594</td>\n",
              "      <td>0.271884</td>\n",
              "      <td>0.031508</td>\n",
              "      <td>0.433950</td>\n",
              "      <td>-0.094687</td>\n",
              "      <td>-0.009790</td>\n",
              "      <td>0.219988</td>\n",
              "      <td>0.125505</td>\n",
              "      <td>-0.039669</td>\n",
              "      <td>-0.076695</td>\n",
              "      <td>1.422336</td>\n",
              "      <td>1.576727</td>\n",
              "      <td>1.119440</td>\n",
              "      <td>...</td>\n",
              "      <td>-0.037944</td>\n",
              "      <td>-0.035126</td>\n",
              "      <td>-0.014333</td>\n",
              "      <td>-0.014333</td>\n",
              "      <td>-0.020271</td>\n",
              "      <td>-0.028674</td>\n",
              "      <td>-0.014333</td>\n",
              "      <td>-0.014333</td>\n",
              "      <td>-0.014333</td>\n",
              "      <td>-0.014333</td>\n",
              "      <td>-0.014333</td>\n",
              "      <td>-0.040568</td>\n",
              "      <td>-0.014333</td>\n",
              "      <td>-0.035126</td>\n",
              "      <td>-0.014333</td>\n",
              "      <td>-0.020271</td>\n",
              "      <td>-0.014333</td>\n",
              "      <td>-0.014333</td>\n",
              "      <td>-0.014333</td>\n",
              "      <td>-0.014333</td>\n",
              "      <td>-0.020271</td>\n",
              "      <td>-0.103899</td>\n",
              "      <td>-0.020271</td>\n",
              "      <td>-0.014333</td>\n",
              "      <td>-0.014333</td>\n",
              "      <td>-0.014333</td>\n",
              "      <td>-0.014333</td>\n",
              "      <td>-0.020271</td>\n",
              "      <td>-0.02483</td>\n",
              "      <td>-0.014333</td>\n",
              "      <td>-0.028674</td>\n",
              "      <td>-0.014333</td>\n",
              "      <td>-0.014333</td>\n",
              "      <td>-0.02483</td>\n",
              "      <td>-0.014333</td>\n",
              "      <td>-0.014333</td>\n",
              "      <td>-0.049706</td>\n",
              "      <td>-0.043033</td>\n",
              "      <td>-0.020271</td>\n",
              "      <td>-0.014333</td>\n",
              "    </tr>\n",
              "    <tr>\n",
              "      <th>3</th>\n",
              "      <td>4</td>\n",
              "      <td>-0.158098</td>\n",
              "      <td>1.286439</td>\n",
              "      <td>-0.310161</td>\n",
              "      <td>0.314064</td>\n",
              "      <td>0.842440</td>\n",
              "      <td>-0.246113</td>\n",
              "      <td>1.003394</td>\n",
              "      <td>1.287241</td>\n",
              "      <td>-0.178744</td>\n",
              "      <td>-0.224374</td>\n",
              "      <td>0.469066</td>\n",
              "      <td>0.051183</td>\n",
              "      <td>-0.005291</td>\n",
              "      <td>-0.033766</td>\n",
              "      <td>0.368964</td>\n",
              "      <td>-0.075898</td>\n",
              "      <td>-0.066862</td>\n",
              "      <td>-0.242304</td>\n",
              "      <td>0.234512</td>\n",
              "      <td>-0.105575</td>\n",
              "      <td>-0.069838</td>\n",
              "      <td>0.754595</td>\n",
              "      <td>-0.509789</td>\n",
              "      <td>-0.528922</td>\n",
              "      <td>-0.266270</td>\n",
              "      <td>-0.075897</td>\n",
              "      <td>-0.072594</td>\n",
              "      <td>-0.459962</td>\n",
              "      <td>-0.373518</td>\n",
              "      <td>-0.268512</td>\n",
              "      <td>-0.094687</td>\n",
              "      <td>-0.678394</td>\n",
              "      <td>-0.693909</td>\n",
              "      <td>-0.112125</td>\n",
              "      <td>-0.096729</td>\n",
              "      <td>-0.076695</td>\n",
              "      <td>0.313366</td>\n",
              "      <td>-0.204974</td>\n",
              "      <td>1.499069</td>\n",
              "      <td>...</td>\n",
              "      <td>-0.037944</td>\n",
              "      <td>-0.035126</td>\n",
              "      <td>-0.014333</td>\n",
              "      <td>-0.014333</td>\n",
              "      <td>-0.020271</td>\n",
              "      <td>-0.028674</td>\n",
              "      <td>-0.014333</td>\n",
              "      <td>-0.014333</td>\n",
              "      <td>-0.014333</td>\n",
              "      <td>-0.014333</td>\n",
              "      <td>-0.014333</td>\n",
              "      <td>-0.040568</td>\n",
              "      <td>-0.014333</td>\n",
              "      <td>-0.035126</td>\n",
              "      <td>-0.014333</td>\n",
              "      <td>-0.020271</td>\n",
              "      <td>-0.014333</td>\n",
              "      <td>-0.014333</td>\n",
              "      <td>-0.014333</td>\n",
              "      <td>-0.014333</td>\n",
              "      <td>-0.020271</td>\n",
              "      <td>-0.103899</td>\n",
              "      <td>-0.020271</td>\n",
              "      <td>-0.014333</td>\n",
              "      <td>-0.014333</td>\n",
              "      <td>-0.014333</td>\n",
              "      <td>-0.014333</td>\n",
              "      <td>-0.020271</td>\n",
              "      <td>-0.02483</td>\n",
              "      <td>-0.014333</td>\n",
              "      <td>-0.028674</td>\n",
              "      <td>-0.014333</td>\n",
              "      <td>-0.014333</td>\n",
              "      <td>-0.02483</td>\n",
              "      <td>-0.014333</td>\n",
              "      <td>-0.014333</td>\n",
              "      <td>-0.049706</td>\n",
              "      <td>-0.043033</td>\n",
              "      <td>-0.020271</td>\n",
              "      <td>-0.014333</td>\n",
              "    </tr>\n",
              "    <tr>\n",
              "      <th>4</th>\n",
              "      <td>5</td>\n",
              "      <td>0.551927</td>\n",
              "      <td>-0.774058</td>\n",
              "      <td>-0.423317</td>\n",
              "      <td>0.314064</td>\n",
              "      <td>-0.048683</td>\n",
              "      <td>-0.246113</td>\n",
              "      <td>-0.840549</td>\n",
              "      <td>-1.025233</td>\n",
              "      <td>-0.178744</td>\n",
              "      <td>0.487128</td>\n",
              "      <td>-0.743155</td>\n",
              "      <td>-0.346953</td>\n",
              "      <td>-0.477764</td>\n",
              "      <td>-0.444501</td>\n",
              "      <td>-0.443615</td>\n",
              "      <td>-0.075898</td>\n",
              "      <td>-0.066862</td>\n",
              "      <td>0.098689</td>\n",
              "      <td>-0.156623</td>\n",
              "      <td>-0.165994</td>\n",
              "      <td>-0.069838</td>\n",
              "      <td>-0.282466</td>\n",
              "      <td>-0.411483</td>\n",
              "      <td>-0.467180</td>\n",
              "      <td>-0.439918</td>\n",
              "      <td>-0.076054</td>\n",
              "      <td>-0.072594</td>\n",
              "      <td>-0.298135</td>\n",
              "      <td>-0.323547</td>\n",
              "      <td>-0.414858</td>\n",
              "      <td>-0.094687</td>\n",
              "      <td>-0.324260</td>\n",
              "      <td>-0.230868</td>\n",
              "      <td>-0.553438</td>\n",
              "      <td>-0.096729</td>\n",
              "      <td>-0.076695</td>\n",
              "      <td>-0.195802</td>\n",
              "      <td>-0.240711</td>\n",
              "      <td>-0.683797</td>\n",
              "      <td>...</td>\n",
              "      <td>-0.037944</td>\n",
              "      <td>-0.035126</td>\n",
              "      <td>-0.014333</td>\n",
              "      <td>-0.014333</td>\n",
              "      <td>-0.020271</td>\n",
              "      <td>-0.028674</td>\n",
              "      <td>-0.014333</td>\n",
              "      <td>-0.014333</td>\n",
              "      <td>-0.014333</td>\n",
              "      <td>-0.014333</td>\n",
              "      <td>-0.014333</td>\n",
              "      <td>-0.040568</td>\n",
              "      <td>-0.014333</td>\n",
              "      <td>-0.035126</td>\n",
              "      <td>-0.014333</td>\n",
              "      <td>-0.020271</td>\n",
              "      <td>-0.014333</td>\n",
              "      <td>-0.014333</td>\n",
              "      <td>-0.014333</td>\n",
              "      <td>-0.014333</td>\n",
              "      <td>-0.020271</td>\n",
              "      <td>-0.103899</td>\n",
              "      <td>-0.020271</td>\n",
              "      <td>-0.014333</td>\n",
              "      <td>-0.014333</td>\n",
              "      <td>-0.014333</td>\n",
              "      <td>-0.014333</td>\n",
              "      <td>-0.020271</td>\n",
              "      <td>-0.02483</td>\n",
              "      <td>-0.014333</td>\n",
              "      <td>-0.028674</td>\n",
              "      <td>-0.014333</td>\n",
              "      <td>-0.014333</td>\n",
              "      <td>-0.02483</td>\n",
              "      <td>-0.014333</td>\n",
              "      <td>-0.014333</td>\n",
              "      <td>-0.049706</td>\n",
              "      <td>-0.043033</td>\n",
              "      <td>-0.020271</td>\n",
              "      <td>-0.014333</td>\n",
              "    </tr>\n",
              "  </tbody>\n",
              "</table>\n",
              "<p>5 rows × 4156 columns</p>\n",
              "</div>"
            ],
            "text/plain": [
              "   ID       V_1       V_2       V_3  ...   hs_4108   hs_4109   hs_4110   hs_4111\n",
              "0   1 -0.008619 -0.774058 -0.423317  ... -0.049706 -0.043033 -0.020271 -0.014333\n",
              "1   2  0.514557 -0.774058 -0.423317  ... -0.049706 -0.043033 -0.020271 -0.014333\n",
              "2   3  0.439818  1.017679  0.708239  ... -0.049706 -0.043033 -0.020271 -0.014333\n",
              "3   4 -0.158098  1.286439 -0.310161  ... -0.049706 -0.043033 -0.020271 -0.014333\n",
              "4   5  0.551927 -0.774058 -0.423317  ... -0.049706 -0.043033 -0.020271 -0.014333\n",
              "\n",
              "[5 rows x 4156 columns]"
            ]
          },
          "metadata": {
            "tags": []
          },
          "execution_count": 31
        }
      ]
    },
    {
      "cell_type": "markdown",
      "metadata": {
        "id": "zyyd30YNQQ6n",
        "colab_type": "text"
      },
      "source": [
        "#### **Split for train, test and sumbission datasets**"
      ]
    },
    {
      "cell_type": "code",
      "metadata": {
        "id": "rebytpIDJBaU",
        "colab_type": "code",
        "colab": {}
      },
      "source": [
        "from sklearn.model_selection import train_test_split"
      ],
      "execution_count": 0,
      "outputs": []
    },
    {
      "cell_type": "code",
      "metadata": {
        "id": "jw9j41ZkQqhi",
        "colab_type": "code",
        "colab": {}
      },
      "source": [
        "X = df_final[df_final['ID'] <= tgt_train['ID'].max()] # Train data without target variable\n",
        "Tst = df_final[df_final['ID'] > tgt_train['ID'].max()] # Test data for the final submission"
      ],
      "execution_count": 0,
      "outputs": []
    },
    {
      "cell_type": "code",
      "metadata": {
        "id": "8mOqune3wudQ",
        "colab_type": "code",
        "colab": {
          "base_uri": "https://localhost:8080/",
          "height": 34
        },
        "outputId": "9fbb6615-02cb-48c7-f5ca-31cc481360c3"
      },
      "source": [
        "# There is one missing id in the test dataset that needs to be inserted on the final stage\n",
        "Tst.shape, tgt_test.shape"
      ],
      "execution_count": 34,
      "outputs": [
        {
          "output_type": "execute_result",
          "data": {
            "text/plain": [
              "((999, 4156), (1000, 2))"
            ]
          },
          "metadata": {
            "tags": []
          },
          "execution_count": 34
        }
      ]
    },
    {
      "cell_type": "code",
      "metadata": {
        "id": "ZhY87mqFwd9d",
        "colab_type": "code",
        "colab": {}
      },
      "source": [
        "# Add target variable to the data\n",
        "Xy = pd.merge(tgt_train, \n",
        "              X, \n",
        "              on = 'ID')"
      ],
      "execution_count": 0,
      "outputs": []
    },
    {
      "cell_type": "code",
      "metadata": {
        "id": "_qcnzs4ZwiCi",
        "colab_type": "code",
        "colab": {
          "base_uri": "https://localhost:8080/",
          "height": 34
        },
        "outputId": "e2ec33bc-b321-46ea-aae4-c084e5c42372"
      },
      "source": [
        "X.shape, Xy.shape"
      ],
      "execution_count": 37,
      "outputs": [
        {
          "output_type": "execute_result",
          "data": {
            "text/plain": [
              "((3870, 4156), (3870, 4157))"
            ]
          },
          "metadata": {
            "tags": []
          },
          "execution_count": 37
        }
      ]
    },
    {
      "cell_type": "code",
      "metadata": {
        "id": "T3vydrVgRv26",
        "colab_type": "code",
        "colab": {}
      },
      "source": [
        "y = Xy['TARGET']\n",
        "X = Xy.drop(['TARGET'], axis = 1)"
      ],
      "execution_count": 0,
      "outputs": []
    },
    {
      "cell_type": "code",
      "metadata": {
        "id": "7QwPhChYS6Xm",
        "colab_type": "code",
        "colab": {}
      },
      "source": [
        "X_train, X_test, y_train, y_test = train_test_split(X,y, test_size=0.3, random_state=777)"
      ],
      "execution_count": 0,
      "outputs": []
    },
    {
      "cell_type": "markdown",
      "metadata": {
        "id": "R-R5mhUcUR8I",
        "colab_type": "text"
      },
      "source": [
        "## Selecting the optimal model for finetuning"
      ]
    },
    {
      "cell_type": "code",
      "metadata": {
        "id": "g4dQYs0CTIkf",
        "colab_type": "code",
        "colab": {}
      },
      "source": [
        "from sklearn.ensemble import RandomForestClassifier\n",
        "from sklearn.linear_model import LogisticRegression\n",
        "from sklearn.tree import DecisionTreeClassifier\n",
        "from sklearn.neighbors import KNeighborsClassifier\n",
        "from xgboost import XGBClassifier\n",
        "\n",
        "from sklearn.model_selection import train_test_split, cross_val_score, StratifiedKFold, GridSearchCV\n",
        "from sklearn.metrics import confusion_matrix, classification_report,roc_auc_score , accuracy_score\n",
        "\n"
      ],
      "execution_count": 0,
      "outputs": []
    },
    {
      "cell_type": "code",
      "metadata": {
        "id": "7wFzBm1UUXNu",
        "colab_type": "code",
        "colab": {}
      },
      "source": [
        "def get_score():\n",
        "  seed = 11\n",
        "\n",
        "  results = []\n",
        "  names = []\n",
        "  scoring = 'roc_auc'\n",
        "\n",
        "  for name, model in models:\n",
        "        strat = StratifiedKFold(n_splits=10, random_state=seed)\n",
        "\n",
        "        cv_results = cross_val_score(model, X_train, y_train, cv=strat, scoring=scoring)\n",
        "        \n",
        "        results.append(cv_results)\n",
        "        names.append(name)\n",
        "        \n",
        "        msg = \"%s: %f (%f)\" % (name, cv_results.mean(), cv_results.std())\n",
        "        print(msg)\n",
        "  return results"
      ],
      "execution_count": 0,
      "outputs": []
    },
    {
      "cell_type": "code",
      "metadata": {
        "id": "sYtBmK-iUf-4",
        "colab_type": "code",
        "colab": {}
      },
      "source": [
        "models = []\n",
        "models.append(('LR', LogisticRegression(random_state=11, solver=\"saga\", penalty=\"l1\", class_weight=\"balanced\", C=1.0, max_iter=500))) \n",
        "models.append(('KNN', KNeighborsClassifier()))\n",
        "models.append(('DecTree', DecisionTreeClassifier())) \n",
        "models.append(('RF', RandomForestClassifier(n_estimators = 10))) \n",
        "models.append(('XGB', XGBClassifier()))"
      ],
      "execution_count": 0,
      "outputs": []
    },
    {
      "cell_type": "code",
      "metadata": {
        "id": "lsrHGRjXUkxL",
        "colab_type": "code",
        "colab": {}
      },
      "source": [
        "mod_list = []\n",
        "for mod , _ in models:\n",
        "  mod_list.append(mod)\n",
        "mod_list.append('Cleaning')\n",
        "\n",
        "df_boxplot = pd.DataFrame(columns=['Score', 'ML'])"
      ],
      "execution_count": 0,
      "outputs": []
    },
    {
      "cell_type": "code",
      "metadata": {
        "id": "PR39biaVUqNK",
        "colab_type": "code",
        "colab": {}
      },
      "source": [
        "def append_res_to_boxplot(results, df):\n",
        "  i = 0\n",
        "  while i < len(results[0]):\n",
        "    line = []\n",
        "    for num, ml in zip(results, mod_list): \n",
        "      line.append([num[i],ml])\n",
        "    i = i+1\n",
        "    df = df.append(pd.DataFrame(line, columns=['Score', 'ML']),ignore_index=True)\n",
        "  return df"
      ],
      "execution_count": 0,
      "outputs": []
    },
    {
      "cell_type": "code",
      "metadata": {
        "id": "FES-P_iKogZe",
        "colab_type": "code",
        "colab": {
          "base_uri": "https://localhost:8080/",
          "height": 462
        },
        "outputId": "d3034858-62c0-4c09-ecf6-dc9308b3d3b1"
      },
      "source": [
        "results = get_score()\n",
        "df_boxplot = append_res_to_boxplot(results, df_boxplot)"
      ],
      "execution_count": 45,
      "outputs": [
        {
          "output_type": "stream",
          "text": [
            "/usr/local/lib/python3.6/dist-packages/sklearn/linear_model/sag.py:337: ConvergenceWarning: The max_iter was reached which means the coef_ did not converge\n",
            "  \"the coef_ did not converge\", ConvergenceWarning)\n",
            "/usr/local/lib/python3.6/dist-packages/sklearn/linear_model/sag.py:337: ConvergenceWarning: The max_iter was reached which means the coef_ did not converge\n",
            "  \"the coef_ did not converge\", ConvergenceWarning)\n",
            "/usr/local/lib/python3.6/dist-packages/sklearn/linear_model/sag.py:337: ConvergenceWarning: The max_iter was reached which means the coef_ did not converge\n",
            "  \"the coef_ did not converge\", ConvergenceWarning)\n",
            "/usr/local/lib/python3.6/dist-packages/sklearn/linear_model/sag.py:337: ConvergenceWarning: The max_iter was reached which means the coef_ did not converge\n",
            "  \"the coef_ did not converge\", ConvergenceWarning)\n",
            "/usr/local/lib/python3.6/dist-packages/sklearn/linear_model/sag.py:337: ConvergenceWarning: The max_iter was reached which means the coef_ did not converge\n",
            "  \"the coef_ did not converge\", ConvergenceWarning)\n",
            "/usr/local/lib/python3.6/dist-packages/sklearn/linear_model/sag.py:337: ConvergenceWarning: The max_iter was reached which means the coef_ did not converge\n",
            "  \"the coef_ did not converge\", ConvergenceWarning)\n",
            "/usr/local/lib/python3.6/dist-packages/sklearn/linear_model/sag.py:337: ConvergenceWarning: The max_iter was reached which means the coef_ did not converge\n",
            "  \"the coef_ did not converge\", ConvergenceWarning)\n",
            "/usr/local/lib/python3.6/dist-packages/sklearn/linear_model/sag.py:337: ConvergenceWarning: The max_iter was reached which means the coef_ did not converge\n",
            "  \"the coef_ did not converge\", ConvergenceWarning)\n",
            "/usr/local/lib/python3.6/dist-packages/sklearn/linear_model/sag.py:337: ConvergenceWarning: The max_iter was reached which means the coef_ did not converge\n",
            "  \"the coef_ did not converge\", ConvergenceWarning)\n",
            "/usr/local/lib/python3.6/dist-packages/sklearn/linear_model/sag.py:337: ConvergenceWarning: The max_iter was reached which means the coef_ did not converge\n",
            "  \"the coef_ did not converge\", ConvergenceWarning)\n"
          ],
          "name": "stderr"
        },
        {
          "output_type": "stream",
          "text": [
            "LR: 0.651233 (0.034588)\n",
            "KNN: 0.507978 (0.031938)\n",
            "DecTree: 0.570726 (0.012845)\n",
            "RF: 0.616415 (0.043225)\n",
            "XGB: 0.686762 (0.033019)\n"
          ],
          "name": "stdout"
        }
      ]
    },
    {
      "cell_type": "code",
      "metadata": {
        "id": "bGOw62sGVJYO",
        "colab_type": "code",
        "colab": {
          "base_uri": "https://localhost:8080/",
          "height": 458
        },
        "outputId": "caba3377-4a0d-4999-8444-9be85ed44316"
      },
      "source": [
        "# Plotting the results \n",
        "plt.figure(figsize=(12,7))\n",
        "plt.title(\"Cross-validation 'roc_auc' score and various NAs cleaning approaches, Roc_Auc score\")\n",
        "sns.boxplot(data = df_boxplot, x = 'ML',y='Score');"
      ],
      "execution_count": 46,
      "outputs": [
        {
          "output_type": "display_data",
          "data": {
            "image/png": "[encoded data removed]",
            "text/plain": [
              "<Figure size 864x504 with 1 Axes>"
            ]
          },
          "metadata": {
            "tags": []
          }
        }
      ]
    },
    {
      "cell_type": "markdown",
      "metadata": {
        "id": "Js4aq_LGbDig",
        "colab_type": "text"
      },
      "source": [
        "*XGBoost shows the best performance, let's finetune it further*"
      ]
    },
    {
      "cell_type": "markdown",
      "metadata": {
        "id": "eNZ8Fw_Pa7Ay",
        "colab_type": "text"
      },
      "source": [
        "## Finetuning XGBoost"
      ]
    },
    {
      "cell_type": "code",
      "metadata": {
        "id": "bIykYR6u8z5v",
        "colab_type": "code",
        "colab": {}
      },
      "source": [
        "xgb = XGBClassifier()"
      ],
      "execution_count": 0,
      "outputs": []
    },
    {
      "cell_type": "code",
      "metadata": {
        "id": "9etPJTLya6z9",
        "colab_type": "code",
        "colab": {}
      },
      "source": [
        "# Relatively small grid of parameters due to time and computational resources limitations\n",
        "grid = {'nthread':[4], \n",
        "              'objective':['binary:logistic'],\n",
        "              'learning_rate': [0.05, 0.06], \n",
        "              'max_depth': [6,7],\n",
        "              'min_child_weight': [11],\n",
        "              'silent': [1],\n",
        "              'subsample': [0.8],\n",
        "              'colsample_bytree': [0.7],\n",
        "              'n_estimators': [1000], \n",
        "              'seed': [777]}"
      ],
      "execution_count": 0,
      "outputs": []
    },
    {
      "cell_type": "code",
      "metadata": {
        "id": "kMmHkgGN8qw1",
        "colab_type": "code",
        "colab": {}
      },
      "source": [
        "clf = GridSearchCV(xgb, grid, n_jobs=-1, \n",
        "                   cv=StratifiedKFold(n_splits=3, shuffle=True), \n",
        "                   scoring='roc_auc',\n",
        "                   verbose=2, refit=True)"
      ],
      "execution_count": 0,
      "outputs": []
    },
    {
      "cell_type": "code",
      "metadata": {
        "id": "VETq4-_V9KKb",
        "colab_type": "code",
        "colab": {
          "base_uri": "https://localhost:8080/",
          "height": 445
        },
        "outputId": "a717a13e-df5a-4d51-88fd-a9508166746d"
      },
      "source": [
        "clf.fit(X_train, y_train)"
      ],
      "execution_count": 50,
      "outputs": [
        {
          "output_type": "stream",
          "text": [
            "Fitting 3 folds for each of 4 candidates, totalling 12 fits\n"
          ],
          "name": "stdout"
        },
        {
          "output_type": "stream",
          "text": [
            "[Parallel(n_jobs=-1)]: Using backend LokyBackend with 4 concurrent workers.\n",
            "/usr/local/lib/python3.6/dist-packages/joblib/externals/loky/process_executor.py:706: UserWarning: A worker stopped while some jobs were given to the executor. This can be caused by a too short worker timeout or by a memory leak.\n",
            "  \"timeout or by a memory leak.\", UserWarning\n",
            "[Parallel(n_jobs=-1)]: Done  12 out of  12 | elapsed: 31.2min remaining:    0.0s\n",
            "[Parallel(n_jobs=-1)]: Done  12 out of  12 | elapsed: 31.2min finished\n"
          ],
          "name": "stderr"
        },
        {
          "output_type": "execute_result",
          "data": {
            "text/plain": [
              "GridSearchCV(cv=StratifiedKFold(n_splits=3, random_state=None, shuffle=True),\n",
              "             error_score='raise-deprecating',\n",
              "             estimator=XGBClassifier(base_score=0.5, booster='gbtree',\n",
              "                                     colsample_bylevel=1, colsample_bynode=1,\n",
              "                                     colsample_bytree=1, gamma=0,\n",
              "                                     learning_rate=0.1, max_delta_step=0,\n",
              "                                     max_depth=3, min_child_weight=1,\n",
              "                                     missing=None, n_estimators=100, n_jobs=1,\n",
              "                                     nthread=None, obj...\n",
              "                                     subsample=1, verbosity=1),\n",
              "             iid='warn', n_jobs=-1,\n",
              "             param_grid={'colsample_bytree': [0.7],\n",
              "                         'learning_rate': [0.05, 0.06], 'max_depth': [6, 7],\n",
              "                         'min_child_weight': [11], 'n_estimators': [1000],\n",
              "                         'nthread': [4], 'objective': ['binary:logistic'],\n",
              "                         'seed': [777], 'silent': [1], 'subsample': [0.8]},\n",
              "             pre_dispatch='2*n_jobs', refit=True, return_train_score=False,\n",
              "             scoring='roc_auc', verbose=2)"
            ]
          },
          "metadata": {
            "tags": []
          },
          "execution_count": 50
        }
      ]
    },
    {
      "cell_type": "code",
      "metadata": {
        "id": "HBNvPVvnTFe1",
        "colab_type": "code",
        "colab": {
          "base_uri": "https://localhost:8080/",
          "height": 187
        },
        "outputId": "c6dc4ea3-7a7e-4a9c-c551-e65801a93356"
      },
      "source": [
        "clf.best_params_"
      ],
      "execution_count": 53,
      "outputs": [
        {
          "output_type": "execute_result",
          "data": {
            "text/plain": [
              "{'colsample_bytree': 0.7,\n",
              " 'learning_rate': 0.05,\n",
              " 'max_depth': 6,\n",
              " 'min_child_weight': 11,\n",
              " 'n_estimators': 1000,\n",
              " 'nthread': 4,\n",
              " 'objective': 'binary:logistic',\n",
              " 'seed': 777,\n",
              " 'silent': 1,\n",
              " 'subsample': 0.8}"
            ]
          },
          "metadata": {
            "tags": []
          },
          "execution_count": 53
        }
      ]
    },
    {
      "cell_type": "markdown",
      "metadata": {
        "id": "AjjbT6cTi4Lg",
        "colab_type": "text"
      },
      "source": [
        "#### **Model Evaluation**"
      ]
    },
    {
      "cell_type": "code",
      "metadata": {
        "id": "9l5QUN1vUtKa",
        "colab_type": "code",
        "colab": {
          "base_uri": "https://localhost:8080/",
          "height": 34
        },
        "outputId": "8f237976-e708-429b-91ef-a2d4a2e8365a"
      },
      "source": [
        "clf.best_score_"
      ],
      "execution_count": 55,
      "outputs": [
        {
          "output_type": "execute_result",
          "data": {
            "text/plain": [
              "0.646728865114057"
            ]
          },
          "metadata": {
            "tags": []
          },
          "execution_count": 55
        }
      ]
    },
    {
      "cell_type": "code",
      "metadata": {
        "id": "bNobLlKmXQ0q",
        "colab_type": "code",
        "colab": {
          "base_uri": "https://localhost:8080/",
          "height": 34
        },
        "outputId": "e17d7b67-4c46-4e2a-80dd-c33b395117c5"
      },
      "source": [
        "roc_auc_score(y_test, clf.predict(X_test))"
      ],
      "execution_count": 78,
      "outputs": [
        {
          "output_type": "execute_result",
          "data": {
            "text/plain": [
              "0.5695860582639715"
            ]
          },
          "metadata": {
            "tags": []
          },
          "execution_count": 78
        }
      ]
    },
    {
      "cell_type": "code",
      "metadata": {
        "id": "5JF7zpJ6ogJw",
        "colab_type": "code",
        "colab": {
          "base_uri": "https://localhost:8080/",
          "height": 34
        },
        "outputId": "380d04df-d683-4caf-de12-08f97c45729d"
      },
      "source": [
        "accuracy_score(y_test, clf.predict(X_test))"
      ],
      "execution_count": 83,
      "outputs": [
        {
          "output_type": "execute_result",
          "data": {
            "text/plain": [
              "0.6933677863910422"
            ]
          },
          "metadata": {
            "tags": []
          },
          "execution_count": 83
        }
      ]
    },
    {
      "cell_type": "code",
      "metadata": {
        "id": "iKVFQOTsof_K",
        "colab_type": "code",
        "colab": {
          "base_uri": "https://localhost:8080/",
          "height": 51
        },
        "outputId": "70088a6a-97c9-4dbf-e64a-a7bb3fee8052"
      },
      "source": [
        "confusion_matrix(y_test, clf.predict(X_test))"
      ],
      "execution_count": 84,
      "outputs": [
        {
          "output_type": "execute_result",
          "data": {
            "text/plain": [
              "array([[711, 130],\n",
              "       [226,  94]])"
            ]
          },
          "metadata": {
            "tags": []
          },
          "execution_count": 84
        }
      ]
    },
    {
      "cell_type": "markdown",
      "metadata": {
        "id": "IHlnOGDyXZ87",
        "colab_type": "text"
      },
      "source": [
        "**Reveived ROC_AUC Metrics are rather weak and require furhter finetuning and feature engineering.** "
      ]
    },
    {
      "cell_type": "markdown",
      "metadata": {
        "id": "12iao2kPrTFh",
        "colab_type": "text"
      },
      "source": [
        "## Submitting prediction"
      ]
    },
    {
      "cell_type": "code",
      "metadata": {
        "id": "8LOUKvcui79J",
        "colab_type": "code",
        "colab": {}
      },
      "source": [
        "prob = clf.predict_proba(Tst)"
      ],
      "execution_count": 0,
      "outputs": []
    },
    {
      "cell_type": "code",
      "metadata": {
        "id": "A_sjoAOiyxs8",
        "colab_type": "code",
        "colab": {
          "base_uri": "https://localhost:8080/",
          "height": 34
        },
        "outputId": "8ff9bc2f-aa2e-4eb8-9cb1-92721d1c8a00"
      },
      "source": [
        "# Missing element from the prediction\n",
        "list(s1.difference(s2))[0]"
      ],
      "execution_count": 73,
      "outputs": [
        {
          "output_type": "execute_result",
          "data": {
            "text/plain": [
              "3993"
            ]
          },
          "metadata": {
            "tags": []
          },
          "execution_count": 73
        }
      ]
    },
    {
      "cell_type": "code",
      "metadata": {
        "id": "Zy-Cv6pD8IhJ",
        "colab_type": "code",
        "colab": {
          "base_uri": "https://localhost:8080/",
          "height": 34
        },
        "outputId": "62c5b791-1bae-4025-d17c-9cb5ab6e8c1f"
      },
      "source": [
        "list(tgt_test['ID']).index(3993)"
      ],
      "execution_count": 74,
      "outputs": [
        {
          "output_type": "execute_result",
          "data": {
            "text/plain": [
              "121"
            ]
          },
          "metadata": {
            "tags": []
          },
          "execution_count": 74
        }
      ]
    },
    {
      "cell_type": "code",
      "metadata": {
        "id": "FKQZvBLS-_A1",
        "colab_type": "code",
        "colab": {}
      },
      "source": [
        "with open(\"/content/drive/My Drive/Datasets/Kyivstar/LysenkoTetiana_test.txt\",'w') as f:\n",
        "  f.write(\"ID, SCORE\"+'\\n')\n",
        "  prob = list(prob)\n",
        "  \n",
        "  #There is a missing value of ID 3993 at position 121 in the list\n",
        "  a = np.array((0.5,0.50000),dtype='float32')\n",
        "  prob.insert(121, a)\n",
        "  \n",
        "  for idx, p in zip(tgt_test['ID'] , prob):\n",
        "    # p[1] corresponds to selecting the probability of the class \"1\"\n",
        "    f.write( str(idx) + ',' + str(p[1])+ '\\n' )"
      ],
      "execution_count": 0,
      "outputs": []
    },
    {
      "cell_type": "code",
      "metadata": {
        "id": "gqGukTM2149m",
        "colab_type": "code",
        "colab": {}
      },
      "source": [
        "tt = pd.read_csv('/content/drive/My Drive/Datasets/Kyivstar/LysenkoTetiana_test.txt')"
      ],
      "execution_count": 0,
      "outputs": []
    },
    {
      "cell_type": "code",
      "metadata": {
        "id": "EZvw4BZU7xZO",
        "colab_type": "code",
        "colab": {
          "base_uri": "https://localhost:8080/",
          "height": 34
        },
        "outputId": "67507b0e-35b2-4c3c-bfbc-117a804d0205"
      },
      "source": [
        "#Check if one missing ID was inserted correctly\n",
        "sum(tt['ID'] == tgt_test['ID'])"
      ],
      "execution_count": 77,
      "outputs": [
        {
          "output_type": "execute_result",
          "data": {
            "text/plain": [
              "1000"
            ]
          },
          "metadata": {
            "tags": []
          },
          "execution_count": 77
        }
      ]
    }
  ]
}